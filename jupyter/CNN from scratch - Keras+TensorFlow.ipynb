{
 "cells": [
  {
   "cell_type": "markdown",
   "metadata": {},
   "source": [
    "# CNN from scratch - Keras+TensorFlow"
   ]
  },
  {
   "cell_type": "markdown",
   "metadata": {},
   "source": [
    "This is for CNN models built from scratch, using Keras based on TensorFlow.\n",
    "First, some preparation work."
   ]
  },
  {
   "cell_type": "code",
   "execution_count": null,
   "metadata": {
    "collapsed": false
   },
   "outputs": [],
   "source": [
    "from keras.layers import Conv2D, MaxPooling2D, Input, Dense, Flatten, Activation, add\n",
    "from keras.layers.core import Dropout\n",
    "from keras.layers.normalization import BatchNormalization\n",
    "from keras.layers.pooling import GlobalAveragePooling2D\n",
    "from keras.optimizers import RMSprop\n",
    "from keras.models import Model, Sequential\n",
    "from keras.callbacks import ModelCheckpoint, ReduceLROnPlateau\n",
    "from lib.data_utils import get_MNIST_data"
   ]
  },
  {
   "cell_type": "markdown",
   "metadata": {},
   "source": [
    "Read the MNIST data. Notice that we assume that it's 'kaggle-DigitRecognizer/data/train.csv', and we use helper function to read into a dictionary."
   ]
  },
  {
   "cell_type": "code",
   "execution_count": null,
   "metadata": {
    "collapsed": false,
    "scrolled": true
   },
   "outputs": [],
   "source": [
    "# by default, there would be 41000 training data, 1000 test data and 1000 validation data(within traning set)\n",
    "data = get_MNIST_data()\n",
    "\n",
    "# see if we get the data correctly\n",
    "print('image size: ', data['X_train'].shape)"
   ]
  },
  {
   "cell_type": "markdown",
   "metadata": {},
   "source": [
    "## Simple CNN model"
   ]
  },
  {
   "cell_type": "markdown",
   "metadata": {},
   "source": [
    "Build a simple CNN model using Keras and then train from scratch."
   ]
  },
  {
   "cell_type": "code",
   "execution_count": null,
   "metadata": {
    "collapsed": true
   },
   "outputs": [],
   "source": [
    "# model architecture\n",
    "# [batchnorm-Conv-Conv-maxpool]x2 - [dense]x2 - [softmax]\n",
    "simple_CNN = Sequential()\n",
    "simple_CNN.add(BatchNormalization(input_shape=(28, 28, 1)))\n",
    "simple_CNN.add(Conv2D(32, (3, 3), activation='relu', padding='same'))\n",
    "simple_CNN.add(Conv2D(32, (3, 3), activation='relu', padding='same'))\n",
    "simple_CNN.add(MaxPooling2D((2, 2))) # (14,14,32)\n",
    "simple_CNN.add(Dropout(0.25))\n",
    "\n",
    "simple_CNN.add(BatchNormalization())\n",
    "simple_CNN.add(Conv2D(64, (3, 3), activation='relu', padding='same'))\n",
    "simple_CNN.add(Conv2D(64, (3, 3), activation='relu', padding='same'))\n",
    "simple_CNN.add(MaxPooling2D((2, 2))) # (7,7,64)\n",
    "simple_CNN.add(Dropout(0.25))\n",
    "\n",
    "simple_CNN.add(Flatten())\n",
    "simple_CNN.add(Dense(1024, activation='relu'))\n",
    "simple_CNN.add(Dropout(0.5))\n",
    "simple_CNN.add(Dense(10, activation='softmax'))\n",
    "\n",
    "# set loss and optimizer\n",
    "rmsprop = RMSprop(lr=0.001, decay=0.99)\n",
    "simple_CNN.compile(loss='sparse_categorical_crossentropy', optimizer=rmsprop, metrics=['accuracy'])\n",
    "\n",
    "# train the model\n",
    "simple_CNN.fit(data['X_train'], data['y_train'].reshape(-1,1), batch_size=64, epochs=10)\n",
    "\n",
    "# test the model and see accuracy\n",
    "score = simple_CNN.evaluate(data['X_test'], data['y_test'].reshape(-1, 1), batch_size=64)\n",
    "print(score)"
   ]
  },
  {
   "cell_type": "code",
   "execution_count": null,
   "metadata": {
    "collapsed": false
   },
   "outputs": [],
   "source": [
    "# save the model: 0.822\n",
    "simple_CNN.save('simple_CNN.h5')"
   ]
  },
  {
   "cell_type": "markdown",
   "metadata": {},
   "source": [
    "## Mini ResNet"
   ]
  },
  {
   "cell_type": "markdown",
   "metadata": {},
   "source": [
    "Build the small ResNet with 22 layers using Keras and train from scratch."
   ]
  },
  {
   "cell_type": "code",
   "execution_count": null,
   "metadata": {
    "collapsed": true
   },
   "outputs": [],
   "source": [
    "# model architecture\n",
    "# [Conv-batchnorm-relu]x4 - [residual: [Conv-batchnorm-relu]x2-Conv-batchnorm-add-relu]x6\n",
    "# 4\n",
    "inputs = Input(shape=(28, 28, 1))\n",
    "x = Conv2D(64, (7, 7), padding='same')(inputs)\n",
    "x = BatchNormalization()(x)\n",
    "x = Activation('relu')(x)\n",
    "x = Conv2D(64, (1, 1), padding='same')(x)\n",
    "x = BatchNormalization()(x)\n",
    "x = Activation('relu')(x)\n",
    "x = Conv2D(64, (3, 3), padding='same')(x)\n",
    "x = BatchNormalization()(x)\n",
    "x = Activation('relu')(x)\n",
    "x = Conv2D(256, (1, 1), padding='same')(x)\n",
    "x = BatchNormalization()(x)\n",
    "res = MaxPooling2D((2, 2))(x) # (14, 14, 64)\n",
    "\n",
    "# repeated residual modules\n",
    "for i in range(6): # 6x3 = 18\n",
    "    x = Conv2D(64, (1, 1), padding='same')(res)\n",
    "    x = BatchNormalization()(x)\n",
    "    x = Activation('relu')(x)\n",
    "    x = Conv2D(64, (3, 3), padding='same')(x)\n",
    "    x = BatchNormalization()(x)\n",
    "    x = Activation('relu')(x)\n",
    "    x = Conv2D(256, (1, 1), padding='same')(x)\n",
    "    x = BatchNormalization()(x)\n",
    "    x = add([x, res])\n",
    "    res = Activation('relu')(x)\n",
    "\n",
    "x = GlobalAveragePooling2D(data_format='channels_last')(res) #(,256)\n",
    "predictions = Dense(10, activation='softmax')(x)\n",
    "\n",
    "# connect the model\n",
    "mini_ResNet = Model(inputs=inputs, outputs=predictions)\n",
    "\n",
    "# set loss and optimizer\n",
    "rmsprop = RMSprop(lr=0.1, decay=0.9999)\n",
    "mini_ResNet.compile(loss='sparse_categorical_crossentropy', optimizer=rmsprop, metrics=['accuracy'])\n",
    "\n",
    "# train the model\n",
    "checkpoint = ModelCheckpoint('miniResNet_{epoch:02d}-{accuracy:.2f}.h5',\n",
    "                             monitor='accuracy',\n",
    "                             save_best_only=True)\n",
    "plateau = ReduceLROnPlateau(factor=0.1, patience=3, min_lr=0.0001)\n",
    "mini_ResNet.fit(data['X_train'], data['y_train'].reshape(-1, 1), \n",
    "                batch_size=32, epochs=10,\n",
    "                callbacks=[checkpoint, plateau])\n",
    "\n",
    "# test the model and see accuracy\n",
    "score = mini_ResNet.evaluate(data['X_test'], data['y_test'].reshape(-1, 1), batch_size=32)\n",
    "print(score)"
   ]
  },
  {
   "cell_type": "code",
   "execution_count": null,
   "metadata": {
    "collapsed": true
   },
   "outputs": [],
   "source": [
    "# save the model: 0.903\n",
    "mini_ResNet.save('mini_ResNet.h5')"
   ]
  },
  {
   "cell_type": "markdown",
   "metadata": {
    "collapsed": true
   },
   "source": [
    "## Simple CNN with residual connections"
   ]
  },
  {
   "cell_type": "markdown",
   "metadata": {
    "collapsed": true
   },
   "source": [
    "Inspired by ResNet, we try to add residual connections to the simple CNN model above and see if there exists difference of performance."
   ]
  },
  {
   "cell_type": "code",
   "execution_count": null,
   "metadata": {
    "collapsed": true
   },
   "outputs": [],
   "source": [
    "# model architecture\n",
    "# [Conv] - [batchnorm-Conv-Conv-add-maxpool]x2 - [dense]x2 - [softmax]\n",
    "inputs = Input(shape=(28,28,1))\n",
    "x = Conv2D(64, (7, 7), activation='relu', padding='same')(inputs)\n",
    "\n",
    "res = BatchNormalization()(x) # (28, 28, 64)\n",
    "x = Conv2D(64, (3, 3), activation='relu', padding='same')(res)\n",
    "x = Conv2D(64, (3, 3), activation='relu', padding='same')(x)\n",
    "x = add([res, x])\n",
    "x = MaxPooling2D((2, 2))(x)\n",
    "\n",
    "res = BatchNormalization()(x) # (14, 14, 64)\n",
    "x = Conv2D(64, (3, 3), activation='relu', padding='same')(res)\n",
    "x = Conv2D(64, (3, 3), activation='relu', padding='same')(x)\n",
    "x = add([res, x])\n",
    "x = MaxPooling2D((2, 2))(x)\n",
    "\n",
    "x = GlobalAveragePooling2D(data_format='channels_last')(x)\n",
    "predictions = Dense(10, activation='softmax')(x)\n",
    "\n",
    "simple_resCNN = Model(inputs=inputs,outputs=predictions)\n",
    "\n",
    "# set loss and optimizer\n",
    "rmsprop = RMSprop(lr=0.001, decay=0.99)\n",
    "simple_resCNN.compile(loss='sparse_categorical_crossentropy', optimizer=rmsprop, metrics=['accuracy'])\n",
    "\n",
    "# train the model\n",
    "simple_resCNN.fit(data['X_train'], data['y_train'].reshape(-1,1), batch_size=64, epochs=10)\n",
    "\n",
    "# test the model and see accuracy\n",
    "score = simple_resCNN.evaluate(data['X_test'], data['y_test'].reshape(-1, 1), batch_size=64)\n",
    "print(score)"
   ]
  },
  {
   "cell_type": "markdown",
   "metadata": {
    "collapsed": true
   },
   "source": [
    "## Create submissions"
   ]
  },
  {
   "cell_type": "markdown",
   "metadata": {
    "collapsed": true
   },
   "source": [
    "Load the saved trained models and produce predictions for submission on Kaggle."
   ]
  },
  {
   "cell_type": "code",
   "execution_count": 1,
   "metadata": {
    "collapsed": false
   },
   "outputs": [
    {
     "name": "stdout",
     "output_type": "stream",
     "text": [
      "Load model successfully.\n",
      "28000/28000 [==============================] - 776s    \n"
     ]
    },
    {
     "name": "stderr",
     "output_type": "stream",
     "text": [
      "Using TensorFlow backend.\n"
     ]
    }
   ],
   "source": [
    "from lib.data_utils import create_submission\n",
    "from keras.models import load_model\n",
    "\n",
    "# for simple CNN model\n",
    "simple_CNN = load_model('../models/mini_ResNet.h5')\n",
    "print('Load model successfully.')\n",
    "create_submission(simple_CNN, '../data/test.csv', '../submission/submission_miniResNet.csv', 1000)"
   ]
  },
  {
   "cell_type": "code",
   "execution_count": null,
   "metadata": {
    "collapsed": true
   },
   "outputs": [],
   "source": []
  }
 ],
 "metadata": {
  "kernelspec": {
   "display_name": "Python 3",
   "language": "python",
   "name": "python3"
  },
  "language_info": {
   "codemirror_mode": {
    "name": "ipython",
    "version": 3
   },
   "file_extension": ".py",
   "mimetype": "text/x-python",
   "name": "python",
   "nbconvert_exporter": "python",
   "pygments_lexer": "ipython3",
   "version": "3.5.2"
  }
 },
 "nbformat": 4,
 "nbformat_minor": 0
}
