{
 "cells": [
  {
   "cell_type": "markdown",
   "metadata": {},
   "source": [
    "# CNN from scratch - Keras+TensorFlow"
   ]
  },
  {
   "cell_type": "markdown",
   "metadata": {},
   "source": [
    "This is for CNN models built from scratch, using Keras based on TensorFlow.\n",
    "First, some preparation work."
   ]
  },
  {
   "cell_type": "code",
   "execution_count": 1,
   "metadata": {
    "collapsed": false
   },
   "outputs": [
    {
     "name": "stderr",
     "output_type": "stream",
     "text": [
      "Using TensorFlow backend.\n"
     ]
    }
   ],
   "source": [
    "from keras.layers import Conv2D, MaxPooling2D, Input, Dense, Flatten, Activation, add\n",
    "from keras.layers.core import Dropout\n",
    "from keras.layers.normalization import BatchNormalization\n",
    "from keras.layers.pooling import GlobalAveragePooling2D\n",
    "from keras.optimizers import RMSprop\n",
    "from keras.models import Model, Sequential, load_model\n",
    "from keras.callbacks import ModelCheckpoint, EarlyStopping\n",
    "from lib.data_utils import get_MNIST_data\n",
    "import matplotlib.pyplot as plt\n",
    "import numpy as np"
   ]
  },
  {
   "cell_type": "markdown",
   "metadata": {},
   "source": [
    "Read the MNIST data. Notice that we assume that it's 'kaggle-DigitRecognizer/data/train.csv', and we use helper function to read into a dictionary."
   ]
  },
  {
   "cell_type": "code",
   "execution_count": 2,
   "metadata": {
    "collapsed": false,
    "scrolled": true
   },
   "outputs": [
    {
     "name": "stdout",
     "output_type": "stream",
     "text": [
      "image size:  (41000, 28, 28, 1)\n"
     ]
    }
   ],
   "source": [
    "# by default, there would be 41000 training data, 1000 test data and 1000 validation data(within traning set)\n",
    "data = get_MNIST_data()\n",
    "\n",
    "# see if we get the data correctly\n",
    "print('image size: ', data['X_train'].shape)"
   ]
  },
  {
   "cell_type": "markdown",
   "metadata": {},
   "source": [
    "## Simple CNN model"
   ]
  },
  {
   "cell_type": "markdown",
   "metadata": {},
   "source": [
    "Build a simple CNN model using Keras and then train from scratch."
   ]
  },
  {
   "cell_type": "code",
   "execution_count": 3,
   "metadata": {
    "collapsed": true
   },
   "outputs": [
    {
     "name": "stdout",
     "output_type": "stream",
     "text": [
      "Train on 41000 samples, validate on 1000 samples\n",
      "Epoch 1/100\n",
      "41000/41000 [==============================] - 96s - loss: 1.1775 - acc: 0.6437 - val_loss: 0.8264 - val_acc: 0.8100\n",
      "Epoch 2/100\n",
      "41000/41000 [==============================] - 80s - loss: 0.8714 - acc: 0.7324 - val_loss: 0.6831 - val_acc: 0.8260\n",
      "Epoch 3/100\n",
      "41000/41000 [==============================] - 82s - loss: 0.7999 - acc: 0.7530 - val_loss: 0.6309 - val_acc: 0.8380\n",
      "Epoch 4/100\n",
      "41000/41000 [==============================] - 80s - loss: 0.7579 - acc: 0.7650 - val_loss: 0.5993 - val_acc: 0.8400\n",
      "Epoch 5/100\n",
      "41000/41000 [==============================] - 87s - loss: 0.7299 - acc: 0.7731 - val_loss: 0.5762 - val_acc: 0.8440\n",
      "Epoch 6/100\n",
      "41000/41000 [==============================] - 83s - loss: 0.7110 - acc: 0.7785 - val_loss: 0.5578 - val_acc: 0.8470\n",
      "Epoch 7/100\n",
      "41000/41000 [==============================] - 87s - loss: 0.6974 - acc: 0.7842 - val_loss: 0.5435 - val_acc: 0.8500\n",
      "Epoch 8/100\n",
      "41000/41000 [==============================] - 82s - loss: 0.6853 - acc: 0.7847 - val_loss: 0.5316 - val_acc: 0.8490\n",
      "Epoch 9/100\n",
      "41000/41000 [==============================] - 88s - loss: 0.6765 - acc: 0.7879 - val_loss: 0.5220 - val_acc: 0.8520\n",
      "Epoch 10/100\n",
      "41000/41000 [==============================] - 87s - loss: 0.6657 - acc: 0.7926 - val_loss: 0.5135 - val_acc: 0.8530\n",
      "Epoch 11/100\n",
      "41000/41000 [==============================] - 89s - loss: 0.6545 - acc: 0.7966 - val_loss: 0.5062 - val_acc: 0.8550\n",
      "Epoch 12/100\n",
      "41000/41000 [==============================] - 85s - loss: 0.6468 - acc: 0.7970 - val_loss: 0.4983 - val_acc: 0.8560\n",
      "Epoch 13/100\n",
      "41000/41000 [==============================] - 90s - loss: 0.6430 - acc: 0.8008 - val_loss: 0.4921 - val_acc: 0.8580\n",
      "Epoch 14/100\n",
      "41000/41000 [==============================] - 87s - loss: 0.6335 - acc: 0.8022 - val_loss: 0.4868 - val_acc: 0.8600\n",
      "Epoch 15/100\n",
      "41000/41000 [==============================] - 84s - loss: 0.6310 - acc: 0.8021 - val_loss: 0.4834 - val_acc: 0.8600\n",
      "Epoch 16/100\n",
      "41000/41000 [==============================] - 80s - loss: 0.6229 - acc: 0.8052 - val_loss: 0.4780 - val_acc: 0.8620\n",
      "Epoch 17/100\n",
      "41000/41000 [==============================] - 84s - loss: 0.6202 - acc: 0.8063 - val_loss: 0.4739 - val_acc: 0.8630\n",
      "Epoch 18/100\n",
      "41000/41000 [==============================] - 89s - loss: 0.6163 - acc: 0.8069 - val_loss: 0.4700 - val_acc: 0.8640\n",
      "Epoch 19/100\n",
      "41000/41000 [==============================] - 87s - loss: 0.6131 - acc: 0.8082 - val_loss: 0.4663 - val_acc: 0.8650\n",
      "Epoch 20/100\n",
      "41000/41000 [==============================] - 81s - loss: 0.6095 - acc: 0.8087 - val_loss: 0.4622 - val_acc: 0.8670\n",
      "Epoch 21/100\n",
      "41000/41000 [==============================] - 96s - loss: 0.6086 - acc: 0.8100 - val_loss: 0.4599 - val_acc: 0.8670\n",
      "Epoch 22/100\n",
      "41000/41000 [==============================] - 85s - loss: 0.6030 - acc: 0.8135 - val_loss: 0.4570 - val_acc: 0.8680\n",
      "Epoch 23/100\n",
      "41000/41000 [==============================] - 82s - loss: 0.6000 - acc: 0.8124 - val_loss: 0.4544 - val_acc: 0.8680\n",
      "Epoch 24/100\n",
      "41000/41000 [==============================] - 85s - loss: 0.5943 - acc: 0.8140 - val_loss: 0.4514 - val_acc: 0.8700\n",
      "Epoch 25/100\n",
      "41000/41000 [==============================] - 83s - loss: 0.5940 - acc: 0.8132 - val_loss: 0.4486 - val_acc: 0.8700\n",
      "Epoch 26/100\n",
      "41000/41000 [==============================] - 86s - loss: 0.5905 - acc: 0.8173 - val_loss: 0.4460 - val_acc: 0.8730\n",
      "Epoch 27/100\n",
      "41000/41000 [==============================] - 83s - loss: 0.5927 - acc: 0.8155 - val_loss: 0.4434 - val_acc: 0.8740\n",
      "Epoch 28/100\n",
      "41000/41000 [==============================] - 84s - loss: 0.5859 - acc: 0.8163 - val_loss: 0.4423 - val_acc: 0.8740\n",
      "Epoch 29/100\n",
      "41000/41000 [==============================] - 82s - loss: 0.5865 - acc: 0.8176 - val_loss: 0.4394 - val_acc: 0.8740\n",
      "Epoch 30/100\n",
      "41000/41000 [==============================] - 79s - loss: 0.5808 - acc: 0.8181 - val_loss: 0.4375 - val_acc: 0.8760\n",
      "Epoch 31/100\n",
      "41000/41000 [==============================] - 79s - loss: 0.5782 - acc: 0.8182 - val_loss: 0.4360 - val_acc: 0.8750\n",
      "Epoch 32/100\n",
      "41000/41000 [==============================] - 80s - loss: 0.5753 - acc: 0.8186 - val_loss: 0.4341 - val_acc: 0.8770\n",
      "Epoch 33/100\n",
      "41000/41000 [==============================] - 80s - loss: 0.5793 - acc: 0.8185 - val_loss: 0.4313 - val_acc: 0.8770\n",
      "Epoch 34/100\n",
      "41000/41000 [==============================] - 84s - loss: 0.5740 - acc: 0.8207 - val_loss: 0.4305 - val_acc: 0.8770\n",
      "Epoch 35/100\n",
      "41000/41000 [==============================] - 85s - loss: 0.5738 - acc: 0.8210 - val_loss: 0.4292 - val_acc: 0.8770\n",
      "Epoch 36/100\n",
      "41000/41000 [==============================] - 88s - loss: 0.5692 - acc: 0.8216 - val_loss: 0.4270 - val_acc: 0.8770\n",
      "Epoch 37/100\n",
      "41000/41000 [==============================] - 87s - loss: 0.5735 - acc: 0.8206 - val_loss: 0.4265 - val_acc: 0.8770\n",
      "Epoch 38/100\n",
      "41000/41000 [==============================] - 87s - loss: 0.5668 - acc: 0.8225 - val_loss: 0.4240 - val_acc: 0.8770\n",
      "Epoch 39/100\n",
      "41000/41000 [==============================] - 83s - loss: 0.5639 - acc: 0.8240 - val_loss: 0.4223 - val_acc: 0.8770\n",
      "Epoch 40/100\n",
      "41000/41000 [==============================] - 84s - loss: 0.5654 - acc: 0.8241 - val_loss: 0.4217 - val_acc: 0.8760\n",
      "Epoch 41/100\n",
      "41000/41000 [==============================] - 91s - loss: 0.5638 - acc: 0.8230 - val_loss: 0.4200 - val_acc: 0.8760\n",
      "Epoch 42/100\n",
      "41000/41000 [==============================] - 87s - loss: 0.5598 - acc: 0.8240 - val_loss: 0.4184 - val_acc: 0.8770\n",
      "Epoch 43/100\n",
      "41000/41000 [==============================] - 87s - loss: 0.5599 - acc: 0.8231 - val_loss: 0.4173 - val_acc: 0.8780\n",
      "Epoch 44/100\n",
      "41000/41000 [==============================] - 86s - loss: 0.5628 - acc: 0.8227 - val_loss: 0.4164 - val_acc: 0.8780\n",
      "Epoch 45/100\n",
      "41000/41000 [==============================] - 86s - loss: 0.5559 - acc: 0.8276 - val_loss: 0.4150 - val_acc: 0.8780\n",
      "Epoch 46/100\n",
      "41000/41000 [==============================] - 89s - loss: 0.5617 - acc: 0.8242 - val_loss: 0.4132 - val_acc: 0.8790\n",
      "Epoch 47/100\n",
      "41000/41000 [==============================] - 87s - loss: 0.5552 - acc: 0.8239 - val_loss: 0.4122 - val_acc: 0.8780\n",
      "Epoch 48/100\n",
      "41000/41000 [==============================] - 89s - loss: 0.5560 - acc: 0.8276 - val_loss: 0.4110 - val_acc: 0.8790\n",
      "Epoch 49/100\n",
      "41000/41000 [==============================] - 88s - loss: 0.5544 - acc: 0.8268 - val_loss: 0.4106 - val_acc: 0.8790\n",
      "Epoch 50/100\n",
      "41000/41000 [==============================] - 87s - loss: 0.5551 - acc: 0.8251 - val_loss: 0.4100 - val_acc: 0.8790\n",
      "Epoch 51/100\n",
      "41000/41000 [==============================] - 86s - loss: 0.5531 - acc: 0.8270 - val_loss: 0.4081 - val_acc: 0.8790\n",
      "Epoch 52/100\n",
      "41000/41000 [==============================] - 91s - loss: 0.5495 - acc: 0.8273 - val_loss: 0.4077 - val_acc: 0.8800\n",
      "Epoch 53/100\n",
      "41000/41000 [==============================] - 87s - loss: 0.5486 - acc: 0.8274 - val_loss: 0.4063 - val_acc: 0.8800\n",
      "Epoch 54/100\n",
      "41000/41000 [==============================] - 80s - loss: 0.5469 - acc: 0.8267 - val_loss: 0.4054 - val_acc: 0.8800\n",
      "Epoch 55/100\n",
      "41000/41000 [==============================] - 78s - loss: 0.5464 - acc: 0.8285 - val_loss: 0.4050 - val_acc: 0.8800\n",
      "Epoch 56/100\n",
      "41000/41000 [==============================] - 78s - loss: 0.5465 - acc: 0.8279 - val_loss: 0.4036 - val_acc: 0.8810\n",
      "Epoch 57/100\n",
      "41000/41000 [==============================] - 78s - loss: 0.5469 - acc: 0.8280 - val_loss: 0.4028 - val_acc: 0.8810\n",
      "Epoch 58/100\n",
      "41000/41000 [==============================] - 78s - loss: 0.5424 - acc: 0.8300 - val_loss: 0.4020 - val_acc: 0.8810\n",
      "Epoch 59/100\n",
      "41000/41000 [==============================] - 78s - loss: 0.5446 - acc: 0.8316 - val_loss: 0.4008 - val_acc: 0.8820\n",
      "Epoch 60/100\n",
      "41000/41000 [==============================] - 78s - loss: 0.5390 - acc: 0.8317 - val_loss: 0.4002 - val_acc: 0.8820\n",
      "Epoch 61/100\n",
      "41000/41000 [==============================] - 78s - loss: 0.5381 - acc: 0.8315 - val_loss: 0.3997 - val_acc: 0.8820\n",
      "Epoch 62/100\n",
      "41000/41000 [==============================] - 87s - loss: 0.5424 - acc: 0.8277 - val_loss: 0.3994 - val_acc: 0.8830\n",
      "Epoch 63/100\n",
      "41000/41000 [==============================] - 86s - loss: 0.5363 - acc: 0.8334 - val_loss: 0.3976 - val_acc: 0.8830\n",
      "Epoch 64/100\n",
      "41000/41000 [==============================] - 91s - loss: 0.5391 - acc: 0.8313 - val_loss: 0.3973 - val_acc: 0.8830\n",
      "Epoch 65/100\n",
      "41000/41000 [==============================] - 87s - loss: 0.5410 - acc: 0.8302 - val_loss: 0.3964 - val_acc: 0.8820\n",
      "Epoch 66/100\n",
      "41000/41000 [==============================] - 82s - loss: 0.5347 - acc: 0.8320 - val_loss: 0.3955 - val_acc: 0.8830\n",
      "Epoch 67/100\n",
      "41000/41000 [==============================] - 78s - loss: 0.5365 - acc: 0.8304 - val_loss: 0.3955 - val_acc: 0.8820\n",
      "Epoch 68/100\n",
      "41000/41000 [==============================] - 79s - loss: 0.5358 - acc: 0.8336 - val_loss: 0.3946 - val_acc: 0.8830\n",
      "Epoch 69/100\n",
      "41000/41000 [==============================] - 78s - loss: 0.5333 - acc: 0.8339 - val_loss: 0.3935 - val_acc: 0.8830\n",
      "Epoch 70/100\n",
      "41000/41000 [==============================] - 78s - loss: 0.5319 - acc: 0.8335 - val_loss: 0.3929 - val_acc: 0.8840\n",
      "Epoch 71/100\n",
      "41000/41000 [==============================] - 78s - loss: 0.5309 - acc: 0.8352 - val_loss: 0.3926 - val_acc: 0.8830\n",
      "Epoch 72/100\n",
      "41000/41000 [==============================] - 78s - loss: 0.5310 - acc: 0.8341 - val_loss: 0.3916 - val_acc: 0.8830\n",
      "Epoch 73/100\n",
      "41000/41000 [==============================] - 78s - loss: 0.5340 - acc: 0.8303 - val_loss: 0.3908 - val_acc: 0.8830\n",
      "Epoch 74/100\n",
      "41000/41000 [==============================] - 79s - loss: 0.5311 - acc: 0.8343 - val_loss: 0.3905 - val_acc: 0.8830\n",
      "Epoch 75/100\n",
      "41000/41000 [==============================] - 78s - loss: 0.5297 - acc: 0.8343 - val_loss: 0.3896 - val_acc: 0.8830\n",
      "Epoch 76/100\n",
      "41000/41000 [==============================] - 78s - loss: 0.5302 - acc: 0.8334 - val_loss: 0.3894 - val_acc: 0.8830\n",
      "Epoch 77/100\n",
      "41000/41000 [==============================] - 78s - loss: 0.5299 - acc: 0.8333 - val_loss: 0.3884 - val_acc: 0.8830\n",
      "Epoch 78/100\n",
      "41000/41000 [==============================] - 78s - loss: 0.5280 - acc: 0.8350 - val_loss: 0.3878 - val_acc: 0.8830\n",
      "Epoch 79/100\n",
      "41000/41000 [==============================] - 78s - loss: 0.5258 - acc: 0.8342 - val_loss: 0.3875 - val_acc: 0.8830\n",
      "Epoch 80/100\n",
      "41000/41000 [==============================] - 78s - loss: 0.5248 - acc: 0.8370 - val_loss: 0.3869 - val_acc: 0.8830\n",
      "Epoch 81/100\n",
      "41000/41000 [==============================] - 78s - loss: 0.5299 - acc: 0.8330 - val_loss: 0.3867 - val_acc: 0.8840\n",
      "Epoch 82/100\n",
      "41000/41000 [==============================] - 78s - loss: 0.5255 - acc: 0.8354 - val_loss: 0.3857 - val_acc: 0.8830\n",
      "Epoch 83/100\n",
      "41000/41000 [==============================] - 80s - loss: 0.5225 - acc: 0.8372 - val_loss: 0.3860 - val_acc: 0.8840\n",
      "Epoch 84/100\n",
      "41000/41000 [==============================] - 78s - loss: 0.5251 - acc: 0.8371 - val_loss: 0.3840 - val_acc: 0.8840\n",
      "Epoch 85/100\n",
      "41000/41000 [==============================] - 78s - loss: 0.5258 - acc: 0.8346 - val_loss: 0.3844 - val_acc: 0.8840\n",
      "Epoch 86/100\n",
      "41000/41000 [==============================] - 78s - loss: 0.5259 - acc: 0.8355 - val_loss: 0.3838 - val_acc: 0.8840\n",
      "Epoch 87/100\n",
      "41000/41000 [==============================] - 80s - loss: 0.5223 - acc: 0.8355 - val_loss: 0.3835 - val_acc: 0.8840\n",
      "Epoch 88/100\n",
      "41000/41000 [==============================] - 82s - loss: 0.5208 - acc: 0.8375 - val_loss: 0.3821 - val_acc: 0.8840\n",
      "Epoch 89/100\n",
      "41000/41000 [==============================] - 83s - loss: 0.5184 - acc: 0.8391 - val_loss: 0.3818 - val_acc: 0.8850\n",
      "Epoch 90/100\n",
      "41000/41000 [==============================] - 81s - loss: 0.5196 - acc: 0.8362 - val_loss: 0.3812 - val_acc: 0.8850\n",
      "Epoch 91/100\n",
      "41000/41000 [==============================] - 81s - loss: 0.5187 - acc: 0.8366 - val_loss: 0.3814 - val_acc: 0.8840\n",
      "Epoch 92/100\n",
      "41000/41000 [==============================] - 81s - loss: 0.5217 - acc: 0.8389 - val_loss: 0.3804 - val_acc: 0.8850\n",
      "Epoch 93/100\n",
      "41000/41000 [==============================] - 81s - loss: 0.5208 - acc: 0.8368 - val_loss: 0.3799 - val_acc: 0.8850\n",
      "Epoch 94/100\n",
      "41000/41000 [==============================] - 81s - loss: 0.5207 - acc: 0.8381 - val_loss: 0.3794 - val_acc: 0.8850\n",
      "Epoch 95/100\n",
      "41000/41000 [==============================] - 81s - loss: 0.5144 - acc: 0.8389 - val_loss: 0.3784 - val_acc: 0.8860\n",
      "Epoch 96/100\n",
      "41000/41000 [==============================] - 81s - loss: 0.5157 - acc: 0.8386 - val_loss: 0.3791 - val_acc: 0.8860\n",
      "Epoch 97/100\n",
      "41000/41000 [==============================] - 82s - loss: 0.5172 - acc: 0.8373 - val_loss: 0.3788 - val_acc: 0.8860\n",
      "Epoch 98/100\n",
      "41000/41000 [==============================] - 82s - loss: 0.5213 - acc: 0.8381 - val_loss: 0.3772 - val_acc: 0.8860\n",
      "Epoch 99/100\n",
      "41000/41000 [==============================] - 82s - loss: 0.5148 - acc: 0.8396 - val_loss: 0.3766 - val_acc: 0.8860\n",
      "Epoch 100/100\n",
      "41000/41000 [==============================] - 82s - loss: 0.5127 - acc: 0.8400 - val_loss: 0.3761 - val_acc: 0.8860\n"
     ]
    },
    {
     "data": {
      "text/plain": [
       "<keras.callbacks.History at 0x7f92329e2828>"
      ]
     },
     "execution_count": 3,
     "metadata": {},
     "output_type": "execute_result"
    }
   ],
   "source": [
    "# model architecture\n",
    "# [batchnorm-Conv-Conv-maxpool]x2 - [dense]x2 - [softmax]\n",
    "simple_CNN = Sequential()\n",
    "simple_CNN.add(BatchNormalization(input_shape=(28, 28, 1)))\n",
    "simple_CNN.add(Conv2D(32, (3, 3), activation='relu', padding='same'))\n",
    "simple_CNN.add(Conv2D(32, (3, 3), activation='relu', padding='same'))\n",
    "simple_CNN.add(MaxPooling2D((2, 2))) # (14,14,32)\n",
    "simple_CNN.add(Dropout(0.25))\n",
    "\n",
    "simple_CNN.add(BatchNormalization())\n",
    "simple_CNN.add(Conv2D(64, (3, 3), activation='relu', padding='same'))\n",
    "simple_CNN.add(Conv2D(64, (3, 3), activation='relu', padding='same'))\n",
    "simple_CNN.add(MaxPooling2D((2, 2))) # (7,7,64)\n",
    "simple_CNN.add(Dropout(0.25))\n",
    "\n",
    "simple_CNN.add(Flatten())\n",
    "simple_CNN.add(Dense(1024, activation='relu'))\n",
    "simple_CNN.add(Dropout(0.5))\n",
    "simple_CNN.add(Dense(10, activation='softmax'))\n",
    "\n",
    "# set loss and optimizer\n",
    "rmsprop = RMSprop(lr=0.001, decay=0.999)\n",
    "simple_CNN.compile(loss='sparse_categorical_crossentropy', optimizer=rmsprop, metrics=['accuracy'])\n",
    "\n",
    "# train the model\n",
    "checkpoint = ModelCheckpoint('../models/simpleCNN_{epoch:02d}-{loss:.4f}.h5',\n",
    "                             monitor='loss',\n",
    "                             save_best_only=True)\n",
    "earlystop = EarlyStopping(min_delta=0.0001, patience=3)\n",
    "\n",
    "# use test data to monitor early stopping\n",
    "simple_CNN.fit(data['X_train'], data['y_train'].reshape(-1,1),\n",
    "               batch_size=64,\n",
    "               epochs=100,\n",
    "               validation_data=(data['X_test'], data['y_test'].reshape(-1, 1)),\n",
    "               callbacks=[checkpoint, earlystop],\n",
    "               initial_epoch=0)"
   ]
  },
  {
   "cell_type": "code",
   "execution_count": 7,
   "metadata": {
    "collapsed": true
   },
   "outputs": [
    {
     "name": "stdout",
     "output_type": "stream",
     "text": [
      "Train on 41000 samples, validate on 1000 samples\n",
      "Epoch 124/200\n",
      "41000/41000 [==============================] - 83s - loss: 0.0047 - acc: 0.9984 - val_loss: 0.0180 - val_acc: 0.9980\n",
      "Epoch 125/200\n",
      "41000/41000 [==============================] - 81s - loss: 0.0053 - acc: 0.9985 - val_loss: 0.0173 - val_acc: 0.9980\n",
      "Epoch 126/200\n",
      "41000/41000 [==============================] - 81s - loss: 0.0050 - acc: 0.9985 - val_loss: 0.0170 - val_acc: 0.9990\n",
      "Epoch 127/200\n",
      "41000/41000 [==============================] - 80s - loss: 0.0042 - acc: 0.9988 - val_loss: 0.0173 - val_acc: 0.9990\n",
      "Epoch 128/200\n",
      "41000/41000 [==============================] - 78s - loss: 0.0045 - acc: 0.9985 - val_loss: 0.0173 - val_acc: 0.9990\n",
      "Epoch 129/200\n",
      "21760/41000 [==============>...............] - ETA: 37s - loss: 0.0040 - acc: 0.9988"
     ]
    },
    {
     "ename": "KeyboardInterrupt",
     "evalue": "",
     "output_type": "error",
     "traceback": [
      "\u001b[1;31m---------------------------------------------------------------------------\u001b[0m",
      "\u001b[1;31mKeyboardInterrupt\u001b[0m                         Traceback (most recent call last)",
      "\u001b[1;32m<ipython-input-7-6c9fbff6eab7>\u001b[0m in \u001b[0;36m<module>\u001b[1;34m()\u001b[0m\n\u001b[0;32m     17\u001b[0m                \u001b[0mvalidation_data\u001b[0m\u001b[1;33m=\u001b[0m\u001b[1;33m(\u001b[0m\u001b[0mdata\u001b[0m\u001b[1;33m[\u001b[0m\u001b[1;34m'X_test'\u001b[0m\u001b[1;33m]\u001b[0m\u001b[1;33m,\u001b[0m \u001b[0mdata\u001b[0m\u001b[1;33m[\u001b[0m\u001b[1;34m'y_test'\u001b[0m\u001b[1;33m]\u001b[0m\u001b[1;33m.\u001b[0m\u001b[0mreshape\u001b[0m\u001b[1;33m(\u001b[0m\u001b[1;33m-\u001b[0m\u001b[1;36m1\u001b[0m\u001b[1;33m,\u001b[0m \u001b[1;36m1\u001b[0m\u001b[1;33m)\u001b[0m\u001b[1;33m)\u001b[0m\u001b[1;33m,\u001b[0m\u001b[1;33m\u001b[0m\u001b[0m\n\u001b[0;32m     18\u001b[0m                \u001b[0mcallbacks\u001b[0m\u001b[1;33m=\u001b[0m\u001b[1;33m[\u001b[0m\u001b[0mcheckpoint\u001b[0m\u001b[1;33m,\u001b[0m \u001b[0mearlystop\u001b[0m\u001b[1;33m]\u001b[0m\u001b[1;33m,\u001b[0m\u001b[1;33m\u001b[0m\u001b[0m\n\u001b[1;32m---> 19\u001b[1;33m                initial_epoch=123)\n\u001b[0m",
      "\u001b[1;32m/usr/local/lib/python3.5/dist-packages/keras/models.py\u001b[0m in \u001b[0;36mfit\u001b[1;34m(self, x, y, batch_size, epochs, verbose, callbacks, validation_split, validation_data, shuffle, class_weight, sample_weight, initial_epoch, **kwargs)\u001b[0m\n\u001b[0;32m    865\u001b[0m                               \u001b[0mclass_weight\u001b[0m\u001b[1;33m=\u001b[0m\u001b[0mclass_weight\u001b[0m\u001b[1;33m,\u001b[0m\u001b[1;33m\u001b[0m\u001b[0m\n\u001b[0;32m    866\u001b[0m                               \u001b[0msample_weight\u001b[0m\u001b[1;33m=\u001b[0m\u001b[0msample_weight\u001b[0m\u001b[1;33m,\u001b[0m\u001b[1;33m\u001b[0m\u001b[0m\n\u001b[1;32m--> 867\u001b[1;33m                               initial_epoch=initial_epoch)\n\u001b[0m\u001b[0;32m    868\u001b[0m \u001b[1;33m\u001b[0m\u001b[0m\n\u001b[0;32m    869\u001b[0m     def evaluate(self, x, y, batch_size=32, verbose=1,\n",
      "\u001b[1;32m/usr/local/lib/python3.5/dist-packages/keras/engine/training.py\u001b[0m in \u001b[0;36mfit\u001b[1;34m(self, x, y, batch_size, epochs, verbose, callbacks, validation_split, validation_data, shuffle, class_weight, sample_weight, initial_epoch, steps_per_epoch, validation_steps, **kwargs)\u001b[0m\n\u001b[0;32m   1593\u001b[0m                               \u001b[0minitial_epoch\u001b[0m\u001b[1;33m=\u001b[0m\u001b[0minitial_epoch\u001b[0m\u001b[1;33m,\u001b[0m\u001b[1;33m\u001b[0m\u001b[0m\n\u001b[0;32m   1594\u001b[0m                               \u001b[0msteps_per_epoch\u001b[0m\u001b[1;33m=\u001b[0m\u001b[0msteps_per_epoch\u001b[0m\u001b[1;33m,\u001b[0m\u001b[1;33m\u001b[0m\u001b[0m\n\u001b[1;32m-> 1595\u001b[1;33m                               validation_steps=validation_steps)\n\u001b[0m\u001b[0;32m   1596\u001b[0m \u001b[1;33m\u001b[0m\u001b[0m\n\u001b[0;32m   1597\u001b[0m     def evaluate(self, x, y,\n",
      "\u001b[1;32m/usr/local/lib/python3.5/dist-packages/keras/engine/training.py\u001b[0m in \u001b[0;36m_fit_loop\u001b[1;34m(self, f, ins, out_labels, batch_size, epochs, verbose, callbacks, val_f, val_ins, shuffle, callback_metrics, initial_epoch, steps_per_epoch, validation_steps)\u001b[0m\n\u001b[0;32m   1180\u001b[0m                     \u001b[0mbatch_logs\u001b[0m\u001b[1;33m[\u001b[0m\u001b[1;34m'size'\u001b[0m\u001b[1;33m]\u001b[0m \u001b[1;33m=\u001b[0m \u001b[0mlen\u001b[0m\u001b[1;33m(\u001b[0m\u001b[0mbatch_ids\u001b[0m\u001b[1;33m)\u001b[0m\u001b[1;33m\u001b[0m\u001b[0m\n\u001b[0;32m   1181\u001b[0m                     \u001b[0mcallbacks\u001b[0m\u001b[1;33m.\u001b[0m\u001b[0mon_batch_begin\u001b[0m\u001b[1;33m(\u001b[0m\u001b[0mbatch_index\u001b[0m\u001b[1;33m,\u001b[0m \u001b[0mbatch_logs\u001b[0m\u001b[1;33m)\u001b[0m\u001b[1;33m\u001b[0m\u001b[0m\n\u001b[1;32m-> 1182\u001b[1;33m                     \u001b[0mouts\u001b[0m \u001b[1;33m=\u001b[0m \u001b[0mf\u001b[0m\u001b[1;33m(\u001b[0m\u001b[0mins_batch\u001b[0m\u001b[1;33m)\u001b[0m\u001b[1;33m\u001b[0m\u001b[0m\n\u001b[0m\u001b[0;32m   1183\u001b[0m                     \u001b[1;32mif\u001b[0m \u001b[1;32mnot\u001b[0m \u001b[0misinstance\u001b[0m\u001b[1;33m(\u001b[0m\u001b[0mouts\u001b[0m\u001b[1;33m,\u001b[0m \u001b[0mlist\u001b[0m\u001b[1;33m)\u001b[0m\u001b[1;33m:\u001b[0m\u001b[1;33m\u001b[0m\u001b[0m\n\u001b[0;32m   1184\u001b[0m                         \u001b[0mouts\u001b[0m \u001b[1;33m=\u001b[0m \u001b[1;33m[\u001b[0m\u001b[0mouts\u001b[0m\u001b[1;33m]\u001b[0m\u001b[1;33m\u001b[0m\u001b[0m\n",
      "\u001b[1;32m/usr/local/lib/python3.5/dist-packages/keras/backend/tensorflow_backend.py\u001b[0m in \u001b[0;36m__call__\u001b[1;34m(self, inputs)\u001b[0m\n\u001b[0;32m   2268\u001b[0m         updated = session.run(self.outputs + [self.updates_op],\n\u001b[0;32m   2269\u001b[0m                               \u001b[0mfeed_dict\u001b[0m\u001b[1;33m=\u001b[0m\u001b[0mfeed_dict\u001b[0m\u001b[1;33m,\u001b[0m\u001b[1;33m\u001b[0m\u001b[0m\n\u001b[1;32m-> 2270\u001b[1;33m                               **self.session_kwargs)\n\u001b[0m\u001b[0;32m   2271\u001b[0m         \u001b[1;32mreturn\u001b[0m \u001b[0mupdated\u001b[0m\u001b[1;33m[\u001b[0m\u001b[1;33m:\u001b[0m\u001b[0mlen\u001b[0m\u001b[1;33m(\u001b[0m\u001b[0mself\u001b[0m\u001b[1;33m.\u001b[0m\u001b[0moutputs\u001b[0m\u001b[1;33m)\u001b[0m\u001b[1;33m]\u001b[0m\u001b[1;33m\u001b[0m\u001b[0m\n\u001b[0;32m   2272\u001b[0m \u001b[1;33m\u001b[0m\u001b[0m\n",
      "\u001b[1;32m/usr/local/lib/python3.5/dist-packages/tensorflow/python/client/session.py\u001b[0m in \u001b[0;36mrun\u001b[1;34m(self, fetches, feed_dict, options, run_metadata)\u001b[0m\n\u001b[0;32m    893\u001b[0m     \u001b[1;32mtry\u001b[0m\u001b[1;33m:\u001b[0m\u001b[1;33m\u001b[0m\u001b[0m\n\u001b[0;32m    894\u001b[0m       result = self._run(None, fetches, feed_dict, options_ptr,\n\u001b[1;32m--> 895\u001b[1;33m                          run_metadata_ptr)\n\u001b[0m\u001b[0;32m    896\u001b[0m       \u001b[1;32mif\u001b[0m \u001b[0mrun_metadata\u001b[0m\u001b[1;33m:\u001b[0m\u001b[1;33m\u001b[0m\u001b[0m\n\u001b[0;32m    897\u001b[0m         \u001b[0mproto_data\u001b[0m \u001b[1;33m=\u001b[0m \u001b[0mtf_session\u001b[0m\u001b[1;33m.\u001b[0m\u001b[0mTF_GetBuffer\u001b[0m\u001b[1;33m(\u001b[0m\u001b[0mrun_metadata_ptr\u001b[0m\u001b[1;33m)\u001b[0m\u001b[1;33m\u001b[0m\u001b[0m\n",
      "\u001b[1;32m/usr/local/lib/python3.5/dist-packages/tensorflow/python/client/session.py\u001b[0m in \u001b[0;36m_run\u001b[1;34m(self, handle, fetches, feed_dict, options, run_metadata)\u001b[0m\n\u001b[0;32m   1122\u001b[0m     \u001b[1;32mif\u001b[0m \u001b[0mfinal_fetches\u001b[0m \u001b[1;32mor\u001b[0m \u001b[0mfinal_targets\u001b[0m \u001b[1;32mor\u001b[0m \u001b[1;33m(\u001b[0m\u001b[0mhandle\u001b[0m \u001b[1;32mand\u001b[0m \u001b[0mfeed_dict_tensor\u001b[0m\u001b[1;33m)\u001b[0m\u001b[1;33m:\u001b[0m\u001b[1;33m\u001b[0m\u001b[0m\n\u001b[0;32m   1123\u001b[0m       results = self._do_run(handle, final_targets, final_fetches,\n\u001b[1;32m-> 1124\u001b[1;33m                              feed_dict_tensor, options, run_metadata)\n\u001b[0m\u001b[0;32m   1125\u001b[0m     \u001b[1;32melse\u001b[0m\u001b[1;33m:\u001b[0m\u001b[1;33m\u001b[0m\u001b[0m\n\u001b[0;32m   1126\u001b[0m       \u001b[0mresults\u001b[0m \u001b[1;33m=\u001b[0m \u001b[1;33m[\u001b[0m\u001b[1;33m]\u001b[0m\u001b[1;33m\u001b[0m\u001b[0m\n",
      "\u001b[1;32m/usr/local/lib/python3.5/dist-packages/tensorflow/python/client/session.py\u001b[0m in \u001b[0;36m_do_run\u001b[1;34m(self, handle, target_list, fetch_list, feed_dict, options, run_metadata)\u001b[0m\n\u001b[0;32m   1319\u001b[0m     \u001b[1;32mif\u001b[0m \u001b[0mhandle\u001b[0m \u001b[1;32mis\u001b[0m \u001b[1;32mNone\u001b[0m\u001b[1;33m:\u001b[0m\u001b[1;33m\u001b[0m\u001b[0m\n\u001b[0;32m   1320\u001b[0m       return self._do_call(_run_fn, self._session, feeds, fetches, targets,\n\u001b[1;32m-> 1321\u001b[1;33m                            options, run_metadata)\n\u001b[0m\u001b[0;32m   1322\u001b[0m     \u001b[1;32melse\u001b[0m\u001b[1;33m:\u001b[0m\u001b[1;33m\u001b[0m\u001b[0m\n\u001b[0;32m   1323\u001b[0m       \u001b[1;32mreturn\u001b[0m \u001b[0mself\u001b[0m\u001b[1;33m.\u001b[0m\u001b[0m_do_call\u001b[0m\u001b[1;33m(\u001b[0m\u001b[0m_prun_fn\u001b[0m\u001b[1;33m,\u001b[0m \u001b[0mself\u001b[0m\u001b[1;33m.\u001b[0m\u001b[0m_session\u001b[0m\u001b[1;33m,\u001b[0m \u001b[0mhandle\u001b[0m\u001b[1;33m,\u001b[0m \u001b[0mfeeds\u001b[0m\u001b[1;33m,\u001b[0m \u001b[0mfetches\u001b[0m\u001b[1;33m)\u001b[0m\u001b[1;33m\u001b[0m\u001b[0m\n",
      "\u001b[1;32m/usr/local/lib/python3.5/dist-packages/tensorflow/python/client/session.py\u001b[0m in \u001b[0;36m_do_call\u001b[1;34m(self, fn, *args)\u001b[0m\n\u001b[0;32m   1325\u001b[0m   \u001b[1;32mdef\u001b[0m \u001b[0m_do_call\u001b[0m\u001b[1;33m(\u001b[0m\u001b[0mself\u001b[0m\u001b[1;33m,\u001b[0m \u001b[0mfn\u001b[0m\u001b[1;33m,\u001b[0m \u001b[1;33m*\u001b[0m\u001b[0margs\u001b[0m\u001b[1;33m)\u001b[0m\u001b[1;33m:\u001b[0m\u001b[1;33m\u001b[0m\u001b[0m\n\u001b[0;32m   1326\u001b[0m     \u001b[1;32mtry\u001b[0m\u001b[1;33m:\u001b[0m\u001b[1;33m\u001b[0m\u001b[0m\n\u001b[1;32m-> 1327\u001b[1;33m       \u001b[1;32mreturn\u001b[0m \u001b[0mfn\u001b[0m\u001b[1;33m(\u001b[0m\u001b[1;33m*\u001b[0m\u001b[0margs\u001b[0m\u001b[1;33m)\u001b[0m\u001b[1;33m\u001b[0m\u001b[0m\n\u001b[0m\u001b[0;32m   1328\u001b[0m     \u001b[1;32mexcept\u001b[0m \u001b[0merrors\u001b[0m\u001b[1;33m.\u001b[0m\u001b[0mOpError\u001b[0m \u001b[1;32mas\u001b[0m \u001b[0me\u001b[0m\u001b[1;33m:\u001b[0m\u001b[1;33m\u001b[0m\u001b[0m\n\u001b[0;32m   1329\u001b[0m       \u001b[0mmessage\u001b[0m \u001b[1;33m=\u001b[0m \u001b[0mcompat\u001b[0m\u001b[1;33m.\u001b[0m\u001b[0mas_text\u001b[0m\u001b[1;33m(\u001b[0m\u001b[0me\u001b[0m\u001b[1;33m.\u001b[0m\u001b[0mmessage\u001b[0m\u001b[1;33m)\u001b[0m\u001b[1;33m\u001b[0m\u001b[0m\n",
      "\u001b[1;32m/usr/local/lib/python3.5/dist-packages/tensorflow/python/client/session.py\u001b[0m in \u001b[0;36m_run_fn\u001b[1;34m(session, feed_dict, fetch_list, target_list, options, run_metadata)\u001b[0m\n\u001b[0;32m   1304\u001b[0m           return tf_session.TF_Run(session, options,\n\u001b[0;32m   1305\u001b[0m                                    \u001b[0mfeed_dict\u001b[0m\u001b[1;33m,\u001b[0m \u001b[0mfetch_list\u001b[0m\u001b[1;33m,\u001b[0m \u001b[0mtarget_list\u001b[0m\u001b[1;33m,\u001b[0m\u001b[1;33m\u001b[0m\u001b[0m\n\u001b[1;32m-> 1306\u001b[1;33m                                    status, run_metadata)\n\u001b[0m\u001b[0;32m   1307\u001b[0m \u001b[1;33m\u001b[0m\u001b[0m\n\u001b[0;32m   1308\u001b[0m     \u001b[1;32mdef\u001b[0m \u001b[0m_prun_fn\u001b[0m\u001b[1;33m(\u001b[0m\u001b[0msession\u001b[0m\u001b[1;33m,\u001b[0m \u001b[0mhandle\u001b[0m\u001b[1;33m,\u001b[0m \u001b[0mfeed_dict\u001b[0m\u001b[1;33m,\u001b[0m \u001b[0mfetch_list\u001b[0m\u001b[1;33m)\u001b[0m\u001b[1;33m:\u001b[0m\u001b[1;33m\u001b[0m\u001b[0m\n",
      "\u001b[1;31mKeyboardInterrupt\u001b[0m: "
     ]
    }
   ],
   "source": [
    "# resume training\n",
    "model = load_model('../models/simpleCNN_122-0.0051.h5')\n",
    "\n",
    "# set the loss and optimizer\n",
    "rmsprop = RMSprop(lr=0.00001)\n",
    "model.compile(optimizer=rmsprop, loss='sparse_categorical_crossentropy', metrics=['accuracy'])\n",
    "\n",
    "# train the model\n",
    "checkpoint = ModelCheckpoint('../models/simpleCNN_{epoch:02d}-{loss:.4f}.h5',\n",
    "                             monitor='loss',\n",
    "                             save_best_only=True)\n",
    "earlystop = EarlyStopping(min_delta=0.0001, patience=5)\n",
    "\n",
    "model.fit(data['X_train'], data['y_train'].reshape(-1,1),\n",
    "               batch_size=64,\n",
    "               epochs=200,\n",
    "               validation_data=(data['X_test'], data['y_test'].reshape(-1, 1)),\n",
    "               callbacks=[checkpoint, earlystop],\n",
    "               initial_epoch=123)"
   ]
  },
  {
   "cell_type": "markdown",
   "metadata": {},
   "source": [
    "## Mini ResNet"
   ]
  },
  {
   "cell_type": "markdown",
   "metadata": {},
   "source": [
    "Build the small ResNet with 22 layers using Keras and train from scratch."
   ]
  },
  {
   "cell_type": "code",
   "execution_count": null,
   "metadata": {
    "collapsed": true
   },
   "outputs": [],
   "source": [
    "# model architecture\n",
    "# [Conv-batchnorm-relu]x4 - [residual: [Conv-batchnorm-relu]x2-Conv-batchnorm-add-relu]x6\n",
    "# 4\n",
    "inputs = Input(shape=(28, 28, 1))\n",
    "x = Conv2D(64, (7, 7), padding='same')(inputs)\n",
    "x = BatchNormalization()(x)\n",
    "x = Activation('relu')(x)\n",
    "x = Conv2D(64, (1, 1), padding='same')(x)\n",
    "x = BatchNormalization()(x)\n",
    "x = Activation('relu')(x)\n",
    "x = Conv2D(64, (3, 3), padding='same')(x)\n",
    "x = BatchNormalization()(x)\n",
    "x = Activation('relu')(x)\n",
    "x = Conv2D(256, (1, 1), padding='same')(x)\n",
    "x = BatchNormalization()(x)\n",
    "res = MaxPooling2D((2, 2))(x) # (14, 14, 64)\n",
    "\n",
    "# repeated residual modules\n",
    "for i in range(6): # 6x3 = 18\n",
    "    x = Conv2D(64, (1, 1), padding='same')(res)\n",
    "    x = BatchNormalization()(x)\n",
    "    x = Activation('relu')(x)\n",
    "    x = Conv2D(64, (3, 3), padding='same')(x)\n",
    "    x = BatchNormalization()(x)\n",
    "    x = Activation('relu')(x)\n",
    "    x = Conv2D(256, (1, 1), padding='same')(x)\n",
    "    x = BatchNormalization()(x)\n",
    "    x = add([x, res])\n",
    "    res = Activation('relu')(x)\n",
    "\n",
    "x = GlobalAveragePooling2D(data_format='channels_last')(res) #(,256)\n",
    "predictions = Dense(10, activation='softmax')(x)\n",
    "\n",
    "# connect the model\n",
    "mini_ResNet = Model(inputs=inputs, outputs=predictions)\n",
    "\n",
    "# set loss and optimizer\n",
    "rmsprop = RMSprop(lr=0.1, decay=0.9999)\n",
    "mini_ResNet.compile(loss='sparse_categorical_crossentropy', optimizer=rmsprop, metrics=['accuracy'])\n",
    "\n",
    "# train the model\n",
    "checkpoint = ModelCheckpoint('miniResNet_{epoch:02d}-{accuracy:.2f}.h5',\n",
    "                             monitor='accuracy',\n",
    "                             save_best_only=True)\n",
    "plateau = ReduceLROnPlateau(factor=0.1, patience=3, min_lr=0.0001)\n",
    "mini_ResNet.fit(data['X_train'], data['y_train'].reshape(-1, 1), \n",
    "                batch_size=32, epochs=10,\n",
    "                callbacks=[checkpoint, plateau])\n",
    "\n",
    "# test the model and see accuracy\n",
    "score = mini_ResNet.evaluate(data['X_test'], data['y_test'].reshape(-1, 1), batch_size=32)\n",
    "print(score)"
   ]
  },
  {
   "cell_type": "code",
   "execution_count": null,
   "metadata": {
    "collapsed": true
   },
   "outputs": [],
   "source": [
    "# save the model: 0.903\n",
    "mini_ResNet.save('mini_ResNet.h5')"
   ]
  },
  {
   "cell_type": "markdown",
   "metadata": {
    "collapsed": true
   },
   "source": [
    "## Simple CNN with residual connections"
   ]
  },
  {
   "cell_type": "markdown",
   "metadata": {
    "collapsed": true
   },
   "source": [
    "Inspired by ResNet, we try to add residual connections to the simple CNN model above and see if there exists difference of performance."
   ]
  },
  {
   "cell_type": "code",
   "execution_count": 3,
   "metadata": {
    "collapsed": true
   },
   "outputs": [
    {
     "name": "stdout",
     "output_type": "stream",
     "text": [
      "Train on 41000 samples, validate on 1000 samples\n",
      "Epoch 1/200\n",
      "41000/41000 [==============================] - 242s - loss: 1.3150 - acc: 0.6920 - val_loss: 1.0183 - val_acc: 0.7970\n",
      "Epoch 2/200\n",
      "41000/41000 [==============================] - 190s - loss: 0.9531 - acc: 0.8000 - val_loss: 0.8737 - val_acc: 0.8250\n",
      "Epoch 3/200\n",
      "41000/41000 [==============================] - 160s - loss: 0.8529 - acc: 0.8265 - val_loss: 0.8004 - val_acc: 0.8420\n",
      "Epoch 4/200\n",
      "41000/41000 [==============================] - 160s - loss: 0.7962 - acc: 0.8380 - val_loss: 0.7533 - val_acc: 0.8570\n",
      "Epoch 5/200\n",
      "41000/41000 [==============================] - 160s - loss: 0.7580 - acc: 0.8467 - val_loss: 0.7208 - val_acc: 0.8600\n",
      "Epoch 6/200\n",
      "41000/41000 [==============================] - 160s - loss: 0.7275 - acc: 0.8550 - val_loss: 0.6953 - val_acc: 0.8670\n",
      "Epoch 7/200\n",
      "41000/41000 [==============================] - 160s - loss: 0.7050 - acc: 0.8602 - val_loss: 0.6740 - val_acc: 0.8680\n",
      "Epoch 8/200\n",
      "41000/41000 [==============================] - 160s - loss: 0.6862 - acc: 0.8620 - val_loss: 0.6556 - val_acc: 0.8700\n",
      "Epoch 9/200\n",
      "41000/41000 [==============================] - 166s - loss: 0.6692 - acc: 0.8666 - val_loss: 0.6417 - val_acc: 0.8740\n",
      "Epoch 10/200\n",
      "41000/41000 [==============================] - 162s - loss: 0.6550 - acc: 0.8691 - val_loss: 0.6275 - val_acc: 0.8770\n",
      "Epoch 11/200\n",
      "41000/41000 [==============================] - 159s - loss: 0.6440 - acc: 0.8716 - val_loss: 0.6174 - val_acc: 0.8790\n",
      "Epoch 12/200\n",
      "41000/41000 [==============================] - 159s - loss: 0.6325 - acc: 0.8735 - val_loss: 0.6075 - val_acc: 0.8790\n",
      "Epoch 13/200\n",
      "41000/41000 [==============================] - 157s - loss: 0.6238 - acc: 0.8751 - val_loss: 0.5981 - val_acc: 0.8820\n",
      "Epoch 14/200\n",
      "41000/41000 [==============================] - 159s - loss: 0.6144 - acc: 0.8773 - val_loss: 0.5895 - val_acc: 0.8860\n",
      "Epoch 15/200\n",
      "41000/41000 [==============================] - 160s - loss: 0.6074 - acc: 0.8786 - val_loss: 0.5819 - val_acc: 0.8860\n",
      "Epoch 16/200\n",
      "41000/41000 [==============================] - 157s - loss: 0.5993 - acc: 0.8803 - val_loss: 0.5757 - val_acc: 0.8870\n",
      "Epoch 17/200\n",
      "41000/41000 [==============================] - 158s - loss: 0.5915 - acc: 0.8823 - val_loss: 0.5690 - val_acc: 0.8880\n",
      "Epoch 18/200\n",
      "41000/41000 [==============================] - 160s - loss: 0.5850 - acc: 0.8827 - val_loss: 0.5619 - val_acc: 0.8900\n",
      "Epoch 19/200\n",
      "41000/41000 [==============================] - 169s - loss: 0.5802 - acc: 0.8838 - val_loss: 0.5573 - val_acc: 0.8910\n",
      "Epoch 20/200\n",
      "41000/41000 [==============================] - 165s - loss: 0.5741 - acc: 0.8843 - val_loss: 0.5518 - val_acc: 0.8920\n",
      "Epoch 21/200\n",
      "41000/41000 [==============================] - 159s - loss: 0.5692 - acc: 0.8854 - val_loss: 0.5465 - val_acc: 0.8920\n",
      "Epoch 22/200\n",
      "41000/41000 [==============================] - 159s - loss: 0.5641 - acc: 0.8869 - val_loss: 0.5418 - val_acc: 0.8950\n",
      "Epoch 23/200\n",
      "41000/41000 [==============================] - 160s - loss: 0.5597 - acc: 0.8875 - val_loss: 0.5382 - val_acc: 0.8940\n",
      "Epoch 24/200\n",
      "41000/41000 [==============================] - 157s - loss: 0.5546 - acc: 0.8893 - val_loss: 0.5328 - val_acc: 0.8960\n",
      "Epoch 25/200\n",
      "41000/41000 [==============================] - 158s - loss: 0.5515 - acc: 0.8883 - val_loss: 0.5292 - val_acc: 0.8960\n",
      "Epoch 26/200\n",
      " 1792/41000 [>.............................] - ETA: 154s - loss: 0.5538 - acc: 0.8823"
     ]
    },
    {
     "ename": "KeyboardInterrupt",
     "evalue": "",
     "output_type": "error",
     "traceback": [
      "\u001b[1;31m---------------------------------------------------------------------------\u001b[0m",
      "\u001b[1;31mKeyboardInterrupt\u001b[0m                         Traceback (most recent call last)",
      "\u001b[1;32m<ipython-input-3-3b980e69b87b>\u001b[0m in \u001b[0;36m<module>\u001b[1;34m()\u001b[0m\n\u001b[0;32m     37\u001b[0m                \u001b[0mvalidation_data\u001b[0m\u001b[1;33m=\u001b[0m\u001b[1;33m(\u001b[0m\u001b[0mdata\u001b[0m\u001b[1;33m[\u001b[0m\u001b[1;34m'X_test'\u001b[0m\u001b[1;33m]\u001b[0m\u001b[1;33m,\u001b[0m \u001b[0mdata\u001b[0m\u001b[1;33m[\u001b[0m\u001b[1;34m'y_test'\u001b[0m\u001b[1;33m]\u001b[0m\u001b[1;33m.\u001b[0m\u001b[0mreshape\u001b[0m\u001b[1;33m(\u001b[0m\u001b[1;33m-\u001b[0m\u001b[1;36m1\u001b[0m\u001b[1;33m,\u001b[0m \u001b[1;36m1\u001b[0m\u001b[1;33m)\u001b[0m\u001b[1;33m)\u001b[0m\u001b[1;33m,\u001b[0m\u001b[1;33m\u001b[0m\u001b[0m\n\u001b[0;32m     38\u001b[0m                \u001b[0mcallbacks\u001b[0m\u001b[1;33m=\u001b[0m\u001b[1;33m[\u001b[0m\u001b[0mcheckpoint\u001b[0m\u001b[1;33m,\u001b[0m \u001b[0mearlystop\u001b[0m\u001b[1;33m]\u001b[0m\u001b[1;33m,\u001b[0m\u001b[1;33m\u001b[0m\u001b[0m\n\u001b[1;32m---> 39\u001b[1;33m                initial_epoch=0)\n\u001b[0m",
      "\u001b[1;32m/usr/local/lib/python3.5/dist-packages/keras/engine/training.py\u001b[0m in \u001b[0;36mfit\u001b[1;34m(self, x, y, batch_size, epochs, verbose, callbacks, validation_split, validation_data, shuffle, class_weight, sample_weight, initial_epoch, steps_per_epoch, validation_steps, **kwargs)\u001b[0m\n\u001b[0;32m   1593\u001b[0m                               \u001b[0minitial_epoch\u001b[0m\u001b[1;33m=\u001b[0m\u001b[0minitial_epoch\u001b[0m\u001b[1;33m,\u001b[0m\u001b[1;33m\u001b[0m\u001b[0m\n\u001b[0;32m   1594\u001b[0m                               \u001b[0msteps_per_epoch\u001b[0m\u001b[1;33m=\u001b[0m\u001b[0msteps_per_epoch\u001b[0m\u001b[1;33m,\u001b[0m\u001b[1;33m\u001b[0m\u001b[0m\n\u001b[1;32m-> 1595\u001b[1;33m                               validation_steps=validation_steps)\n\u001b[0m\u001b[0;32m   1596\u001b[0m \u001b[1;33m\u001b[0m\u001b[0m\n\u001b[0;32m   1597\u001b[0m     def evaluate(self, x, y,\n",
      "\u001b[1;32m/usr/local/lib/python3.5/dist-packages/keras/engine/training.py\u001b[0m in \u001b[0;36m_fit_loop\u001b[1;34m(self, f, ins, out_labels, batch_size, epochs, verbose, callbacks, val_f, val_ins, shuffle, callback_metrics, initial_epoch, steps_per_epoch, validation_steps)\u001b[0m\n\u001b[0;32m   1180\u001b[0m                     \u001b[0mbatch_logs\u001b[0m\u001b[1;33m[\u001b[0m\u001b[1;34m'size'\u001b[0m\u001b[1;33m]\u001b[0m \u001b[1;33m=\u001b[0m \u001b[0mlen\u001b[0m\u001b[1;33m(\u001b[0m\u001b[0mbatch_ids\u001b[0m\u001b[1;33m)\u001b[0m\u001b[1;33m\u001b[0m\u001b[0m\n\u001b[0;32m   1181\u001b[0m                     \u001b[0mcallbacks\u001b[0m\u001b[1;33m.\u001b[0m\u001b[0mon_batch_begin\u001b[0m\u001b[1;33m(\u001b[0m\u001b[0mbatch_index\u001b[0m\u001b[1;33m,\u001b[0m \u001b[0mbatch_logs\u001b[0m\u001b[1;33m)\u001b[0m\u001b[1;33m\u001b[0m\u001b[0m\n\u001b[1;32m-> 1182\u001b[1;33m                     \u001b[0mouts\u001b[0m \u001b[1;33m=\u001b[0m \u001b[0mf\u001b[0m\u001b[1;33m(\u001b[0m\u001b[0mins_batch\u001b[0m\u001b[1;33m)\u001b[0m\u001b[1;33m\u001b[0m\u001b[0m\n\u001b[0m\u001b[0;32m   1183\u001b[0m                     \u001b[1;32mif\u001b[0m \u001b[1;32mnot\u001b[0m \u001b[0misinstance\u001b[0m\u001b[1;33m(\u001b[0m\u001b[0mouts\u001b[0m\u001b[1;33m,\u001b[0m \u001b[0mlist\u001b[0m\u001b[1;33m)\u001b[0m\u001b[1;33m:\u001b[0m\u001b[1;33m\u001b[0m\u001b[0m\n\u001b[0;32m   1184\u001b[0m                         \u001b[0mouts\u001b[0m \u001b[1;33m=\u001b[0m \u001b[1;33m[\u001b[0m\u001b[0mouts\u001b[0m\u001b[1;33m]\u001b[0m\u001b[1;33m\u001b[0m\u001b[0m\n",
      "\u001b[1;32m/usr/local/lib/python3.5/dist-packages/keras/backend/tensorflow_backend.py\u001b[0m in \u001b[0;36m__call__\u001b[1;34m(self, inputs)\u001b[0m\n\u001b[0;32m   2268\u001b[0m         updated = session.run(self.outputs + [self.updates_op],\n\u001b[0;32m   2269\u001b[0m                               \u001b[0mfeed_dict\u001b[0m\u001b[1;33m=\u001b[0m\u001b[0mfeed_dict\u001b[0m\u001b[1;33m,\u001b[0m\u001b[1;33m\u001b[0m\u001b[0m\n\u001b[1;32m-> 2270\u001b[1;33m                               **self.session_kwargs)\n\u001b[0m\u001b[0;32m   2271\u001b[0m         \u001b[1;32mreturn\u001b[0m \u001b[0mupdated\u001b[0m\u001b[1;33m[\u001b[0m\u001b[1;33m:\u001b[0m\u001b[0mlen\u001b[0m\u001b[1;33m(\u001b[0m\u001b[0mself\u001b[0m\u001b[1;33m.\u001b[0m\u001b[0moutputs\u001b[0m\u001b[1;33m)\u001b[0m\u001b[1;33m]\u001b[0m\u001b[1;33m\u001b[0m\u001b[0m\n\u001b[0;32m   2272\u001b[0m \u001b[1;33m\u001b[0m\u001b[0m\n",
      "\u001b[1;32m/usr/local/lib/python3.5/dist-packages/tensorflow/python/client/session.py\u001b[0m in \u001b[0;36mrun\u001b[1;34m(self, fetches, feed_dict, options, run_metadata)\u001b[0m\n\u001b[0;32m    893\u001b[0m     \u001b[1;32mtry\u001b[0m\u001b[1;33m:\u001b[0m\u001b[1;33m\u001b[0m\u001b[0m\n\u001b[0;32m    894\u001b[0m       result = self._run(None, fetches, feed_dict, options_ptr,\n\u001b[1;32m--> 895\u001b[1;33m                          run_metadata_ptr)\n\u001b[0m\u001b[0;32m    896\u001b[0m       \u001b[1;32mif\u001b[0m \u001b[0mrun_metadata\u001b[0m\u001b[1;33m:\u001b[0m\u001b[1;33m\u001b[0m\u001b[0m\n\u001b[0;32m    897\u001b[0m         \u001b[0mproto_data\u001b[0m \u001b[1;33m=\u001b[0m \u001b[0mtf_session\u001b[0m\u001b[1;33m.\u001b[0m\u001b[0mTF_GetBuffer\u001b[0m\u001b[1;33m(\u001b[0m\u001b[0mrun_metadata_ptr\u001b[0m\u001b[1;33m)\u001b[0m\u001b[1;33m\u001b[0m\u001b[0m\n",
      "\u001b[1;32m/usr/local/lib/python3.5/dist-packages/tensorflow/python/client/session.py\u001b[0m in \u001b[0;36m_run\u001b[1;34m(self, handle, fetches, feed_dict, options, run_metadata)\u001b[0m\n\u001b[0;32m   1122\u001b[0m     \u001b[1;32mif\u001b[0m \u001b[0mfinal_fetches\u001b[0m \u001b[1;32mor\u001b[0m \u001b[0mfinal_targets\u001b[0m \u001b[1;32mor\u001b[0m \u001b[1;33m(\u001b[0m\u001b[0mhandle\u001b[0m \u001b[1;32mand\u001b[0m \u001b[0mfeed_dict_tensor\u001b[0m\u001b[1;33m)\u001b[0m\u001b[1;33m:\u001b[0m\u001b[1;33m\u001b[0m\u001b[0m\n\u001b[0;32m   1123\u001b[0m       results = self._do_run(handle, final_targets, final_fetches,\n\u001b[1;32m-> 1124\u001b[1;33m                              feed_dict_tensor, options, run_metadata)\n\u001b[0m\u001b[0;32m   1125\u001b[0m     \u001b[1;32melse\u001b[0m\u001b[1;33m:\u001b[0m\u001b[1;33m\u001b[0m\u001b[0m\n\u001b[0;32m   1126\u001b[0m       \u001b[0mresults\u001b[0m \u001b[1;33m=\u001b[0m \u001b[1;33m[\u001b[0m\u001b[1;33m]\u001b[0m\u001b[1;33m\u001b[0m\u001b[0m\n",
      "\u001b[1;32m/usr/local/lib/python3.5/dist-packages/tensorflow/python/client/session.py\u001b[0m in \u001b[0;36m_do_run\u001b[1;34m(self, handle, target_list, fetch_list, feed_dict, options, run_metadata)\u001b[0m\n\u001b[0;32m   1319\u001b[0m     \u001b[1;32mif\u001b[0m \u001b[0mhandle\u001b[0m \u001b[1;32mis\u001b[0m \u001b[1;32mNone\u001b[0m\u001b[1;33m:\u001b[0m\u001b[1;33m\u001b[0m\u001b[0m\n\u001b[0;32m   1320\u001b[0m       return self._do_call(_run_fn, self._session, feeds, fetches, targets,\n\u001b[1;32m-> 1321\u001b[1;33m                            options, run_metadata)\n\u001b[0m\u001b[0;32m   1322\u001b[0m     \u001b[1;32melse\u001b[0m\u001b[1;33m:\u001b[0m\u001b[1;33m\u001b[0m\u001b[0m\n\u001b[0;32m   1323\u001b[0m       \u001b[1;32mreturn\u001b[0m \u001b[0mself\u001b[0m\u001b[1;33m.\u001b[0m\u001b[0m_do_call\u001b[0m\u001b[1;33m(\u001b[0m\u001b[0m_prun_fn\u001b[0m\u001b[1;33m,\u001b[0m \u001b[0mself\u001b[0m\u001b[1;33m.\u001b[0m\u001b[0m_session\u001b[0m\u001b[1;33m,\u001b[0m \u001b[0mhandle\u001b[0m\u001b[1;33m,\u001b[0m \u001b[0mfeeds\u001b[0m\u001b[1;33m,\u001b[0m \u001b[0mfetches\u001b[0m\u001b[1;33m)\u001b[0m\u001b[1;33m\u001b[0m\u001b[0m\n",
      "\u001b[1;32m/usr/local/lib/python3.5/dist-packages/tensorflow/python/client/session.py\u001b[0m in \u001b[0;36m_do_call\u001b[1;34m(self, fn, *args)\u001b[0m\n\u001b[0;32m   1325\u001b[0m   \u001b[1;32mdef\u001b[0m \u001b[0m_do_call\u001b[0m\u001b[1;33m(\u001b[0m\u001b[0mself\u001b[0m\u001b[1;33m,\u001b[0m \u001b[0mfn\u001b[0m\u001b[1;33m,\u001b[0m \u001b[1;33m*\u001b[0m\u001b[0margs\u001b[0m\u001b[1;33m)\u001b[0m\u001b[1;33m:\u001b[0m\u001b[1;33m\u001b[0m\u001b[0m\n\u001b[0;32m   1326\u001b[0m     \u001b[1;32mtry\u001b[0m\u001b[1;33m:\u001b[0m\u001b[1;33m\u001b[0m\u001b[0m\n\u001b[1;32m-> 1327\u001b[1;33m       \u001b[1;32mreturn\u001b[0m \u001b[0mfn\u001b[0m\u001b[1;33m(\u001b[0m\u001b[1;33m*\u001b[0m\u001b[0margs\u001b[0m\u001b[1;33m)\u001b[0m\u001b[1;33m\u001b[0m\u001b[0m\n\u001b[0m\u001b[0;32m   1328\u001b[0m     \u001b[1;32mexcept\u001b[0m \u001b[0merrors\u001b[0m\u001b[1;33m.\u001b[0m\u001b[0mOpError\u001b[0m \u001b[1;32mas\u001b[0m \u001b[0me\u001b[0m\u001b[1;33m:\u001b[0m\u001b[1;33m\u001b[0m\u001b[0m\n\u001b[0;32m   1329\u001b[0m       \u001b[0mmessage\u001b[0m \u001b[1;33m=\u001b[0m \u001b[0mcompat\u001b[0m\u001b[1;33m.\u001b[0m\u001b[0mas_text\u001b[0m\u001b[1;33m(\u001b[0m\u001b[0me\u001b[0m\u001b[1;33m.\u001b[0m\u001b[0mmessage\u001b[0m\u001b[1;33m)\u001b[0m\u001b[1;33m\u001b[0m\u001b[0m\n",
      "\u001b[1;32m/usr/local/lib/python3.5/dist-packages/tensorflow/python/client/session.py\u001b[0m in \u001b[0;36m_run_fn\u001b[1;34m(session, feed_dict, fetch_list, target_list, options, run_metadata)\u001b[0m\n\u001b[0;32m   1304\u001b[0m           return tf_session.TF_Run(session, options,\n\u001b[0;32m   1305\u001b[0m                                    \u001b[0mfeed_dict\u001b[0m\u001b[1;33m,\u001b[0m \u001b[0mfetch_list\u001b[0m\u001b[1;33m,\u001b[0m \u001b[0mtarget_list\u001b[0m\u001b[1;33m,\u001b[0m\u001b[1;33m\u001b[0m\u001b[0m\n\u001b[1;32m-> 1306\u001b[1;33m                                    status, run_metadata)\n\u001b[0m\u001b[0;32m   1307\u001b[0m \u001b[1;33m\u001b[0m\u001b[0m\n\u001b[0;32m   1308\u001b[0m     \u001b[1;32mdef\u001b[0m \u001b[0m_prun_fn\u001b[0m\u001b[1;33m(\u001b[0m\u001b[0msession\u001b[0m\u001b[1;33m,\u001b[0m \u001b[0mhandle\u001b[0m\u001b[1;33m,\u001b[0m \u001b[0mfeed_dict\u001b[0m\u001b[1;33m,\u001b[0m \u001b[0mfetch_list\u001b[0m\u001b[1;33m)\u001b[0m\u001b[1;33m:\u001b[0m\u001b[1;33m\u001b[0m\u001b[0m\n",
      "\u001b[1;31mKeyboardInterrupt\u001b[0m: "
     ]
    }
   ],
   "source": [
    "# model architecture\n",
    "# [Conv] - [batchnorm-Conv-Conv-add-maxpool]x2 - [dense]x2 - [softmax]\n",
    "inputs = Input(shape=(28,28,1))\n",
    "x = Conv2D(64, (7, 7), activation='relu', padding='same')(inputs)\n",
    "\n",
    "res = BatchNormalization()(x) # (28, 28, 64)\n",
    "x = Conv2D(64, (3, 3), activation='relu', padding='same')(res)\n",
    "x = Conv2D(64, (3, 3), activation='relu', padding='same')(x)\n",
    "x = add([res, x])\n",
    "x = MaxPooling2D((2, 2))(x)\n",
    "\n",
    "res = BatchNormalization()(x) # (14, 14, 64)\n",
    "x = Conv2D(64, (3, 3), activation='relu', padding='same')(res)\n",
    "x = Conv2D(64, (3, 3), activation='relu', padding='same')(x)\n",
    "x = add([res, x])\n",
    "x = MaxPooling2D((2, 2))(x)\n",
    "\n",
    "x = GlobalAveragePooling2D(data_format='channels_last')(x)\n",
    "predictions = Dense(10, activation='softmax')(x)\n",
    "\n",
    "simple_resCNN = Model(inputs=inputs,outputs=predictions)\n",
    "\n",
    "# set loss and optimizer\n",
    "rmsprop = RMSprop(lr=0.01, decay=0.978)\n",
    "simple_resCNN.compile(loss='sparse_categorical_crossentropy', optimizer=rmsprop, metrics=['accuracy'])\n",
    "\n",
    "# train the model\n",
    "checkpoint = ModelCheckpoint('../models/simpleResCNN_{epoch:02d}-{loss:.4f}.h5',\n",
    "                             monitor='loss',\n",
    "                             save_best_only=True)\n",
    "earlystop = EarlyStopping(min_delta=0.0001, patience=5)\n",
    "\n",
    "# use test data to monitor early stopping\n",
    "simple_resCNN.fit(data['X_train'], data['y_train'].reshape(-1,1),\n",
    "               batch_size=64,\n",
    "               epochs=200,\n",
    "               validation_data=(data['X_test'], data['y_test'].reshape(-1, 1)),\n",
    "               callbacks=[checkpoint, earlystop],\n",
    "               initial_epoch=0)"
   ]
  },
  {
   "cell_type": "code",
   "execution_count": 6,
   "metadata": {
    "collapsed": true
   },
   "outputs": [
    {
     "name": "stdout",
     "output_type": "stream",
     "text": [
      "Train on 41000 samples, validate on 1000 samples\n",
      "Epoch 27/200\n",
      "13184/41000 [========>.....................] - ETA: 114s - loss: 0.4798 - acc: 0.8984"
     ]
    },
    {
     "ename": "KeyboardInterrupt",
     "evalue": "",
     "output_type": "error",
     "traceback": [
      "\u001b[1;31m---------------------------------------------------------------------------\u001b[0m",
      "\u001b[1;31mKeyboardInterrupt\u001b[0m                         Traceback (most recent call last)",
      "\u001b[1;32m<ipython-input-6-27cd9bb736de>\u001b[0m in \u001b[0;36m<module>\u001b[1;34m()\u001b[0m\n\u001b[0;32m     17\u001b[0m                \u001b[0mvalidation_data\u001b[0m\u001b[1;33m=\u001b[0m\u001b[1;33m(\u001b[0m\u001b[0mdata\u001b[0m\u001b[1;33m[\u001b[0m\u001b[1;34m'X_test'\u001b[0m\u001b[1;33m]\u001b[0m\u001b[1;33m,\u001b[0m \u001b[0mdata\u001b[0m\u001b[1;33m[\u001b[0m\u001b[1;34m'y_test'\u001b[0m\u001b[1;33m]\u001b[0m\u001b[1;33m.\u001b[0m\u001b[0mreshape\u001b[0m\u001b[1;33m(\u001b[0m\u001b[1;33m-\u001b[0m\u001b[1;36m1\u001b[0m\u001b[1;33m,\u001b[0m \u001b[1;36m1\u001b[0m\u001b[1;33m)\u001b[0m\u001b[1;33m)\u001b[0m\u001b[1;33m,\u001b[0m\u001b[1;33m\u001b[0m\u001b[0m\n\u001b[0;32m     18\u001b[0m                \u001b[0mcallbacks\u001b[0m\u001b[1;33m=\u001b[0m\u001b[1;33m[\u001b[0m\u001b[0mcheckpoint\u001b[0m\u001b[1;33m,\u001b[0m \u001b[0mearlystop\u001b[0m\u001b[1;33m]\u001b[0m\u001b[1;33m,\u001b[0m\u001b[1;33m\u001b[0m\u001b[0m\n\u001b[1;32m---> 19\u001b[1;33m                initial_epoch=26)\n\u001b[0m",
      "\u001b[1;32m/usr/local/lib/python3.5/dist-packages/keras/engine/training.py\u001b[0m in \u001b[0;36mfit\u001b[1;34m(self, x, y, batch_size, epochs, verbose, callbacks, validation_split, validation_data, shuffle, class_weight, sample_weight, initial_epoch, steps_per_epoch, validation_steps, **kwargs)\u001b[0m\n\u001b[0;32m   1593\u001b[0m                               \u001b[0minitial_epoch\u001b[0m\u001b[1;33m=\u001b[0m\u001b[0minitial_epoch\u001b[0m\u001b[1;33m,\u001b[0m\u001b[1;33m\u001b[0m\u001b[0m\n\u001b[0;32m   1594\u001b[0m                               \u001b[0msteps_per_epoch\u001b[0m\u001b[1;33m=\u001b[0m\u001b[0msteps_per_epoch\u001b[0m\u001b[1;33m,\u001b[0m\u001b[1;33m\u001b[0m\u001b[0m\n\u001b[1;32m-> 1595\u001b[1;33m                               validation_steps=validation_steps)\n\u001b[0m\u001b[0;32m   1596\u001b[0m \u001b[1;33m\u001b[0m\u001b[0m\n\u001b[0;32m   1597\u001b[0m     def evaluate(self, x, y,\n",
      "\u001b[1;32m/usr/local/lib/python3.5/dist-packages/keras/engine/training.py\u001b[0m in \u001b[0;36m_fit_loop\u001b[1;34m(self, f, ins, out_labels, batch_size, epochs, verbose, callbacks, val_f, val_ins, shuffle, callback_metrics, initial_epoch, steps_per_epoch, validation_steps)\u001b[0m\n\u001b[0;32m   1180\u001b[0m                     \u001b[0mbatch_logs\u001b[0m\u001b[1;33m[\u001b[0m\u001b[1;34m'size'\u001b[0m\u001b[1;33m]\u001b[0m \u001b[1;33m=\u001b[0m \u001b[0mlen\u001b[0m\u001b[1;33m(\u001b[0m\u001b[0mbatch_ids\u001b[0m\u001b[1;33m)\u001b[0m\u001b[1;33m\u001b[0m\u001b[0m\n\u001b[0;32m   1181\u001b[0m                     \u001b[0mcallbacks\u001b[0m\u001b[1;33m.\u001b[0m\u001b[0mon_batch_begin\u001b[0m\u001b[1;33m(\u001b[0m\u001b[0mbatch_index\u001b[0m\u001b[1;33m,\u001b[0m \u001b[0mbatch_logs\u001b[0m\u001b[1;33m)\u001b[0m\u001b[1;33m\u001b[0m\u001b[0m\n\u001b[1;32m-> 1182\u001b[1;33m                     \u001b[0mouts\u001b[0m \u001b[1;33m=\u001b[0m \u001b[0mf\u001b[0m\u001b[1;33m(\u001b[0m\u001b[0mins_batch\u001b[0m\u001b[1;33m)\u001b[0m\u001b[1;33m\u001b[0m\u001b[0m\n\u001b[0m\u001b[0;32m   1183\u001b[0m                     \u001b[1;32mif\u001b[0m \u001b[1;32mnot\u001b[0m \u001b[0misinstance\u001b[0m\u001b[1;33m(\u001b[0m\u001b[0mouts\u001b[0m\u001b[1;33m,\u001b[0m \u001b[0mlist\u001b[0m\u001b[1;33m)\u001b[0m\u001b[1;33m:\u001b[0m\u001b[1;33m\u001b[0m\u001b[0m\n\u001b[0;32m   1184\u001b[0m                         \u001b[0mouts\u001b[0m \u001b[1;33m=\u001b[0m \u001b[1;33m[\u001b[0m\u001b[0mouts\u001b[0m\u001b[1;33m]\u001b[0m\u001b[1;33m\u001b[0m\u001b[0m\n",
      "\u001b[1;32m/usr/local/lib/python3.5/dist-packages/keras/backend/tensorflow_backend.py\u001b[0m in \u001b[0;36m__call__\u001b[1;34m(self, inputs)\u001b[0m\n\u001b[0;32m   2268\u001b[0m         updated = session.run(self.outputs + [self.updates_op],\n\u001b[0;32m   2269\u001b[0m                               \u001b[0mfeed_dict\u001b[0m\u001b[1;33m=\u001b[0m\u001b[0mfeed_dict\u001b[0m\u001b[1;33m,\u001b[0m\u001b[1;33m\u001b[0m\u001b[0m\n\u001b[1;32m-> 2270\u001b[1;33m                               **self.session_kwargs)\n\u001b[0m\u001b[0;32m   2271\u001b[0m         \u001b[1;32mreturn\u001b[0m \u001b[0mupdated\u001b[0m\u001b[1;33m[\u001b[0m\u001b[1;33m:\u001b[0m\u001b[0mlen\u001b[0m\u001b[1;33m(\u001b[0m\u001b[0mself\u001b[0m\u001b[1;33m.\u001b[0m\u001b[0moutputs\u001b[0m\u001b[1;33m)\u001b[0m\u001b[1;33m]\u001b[0m\u001b[1;33m\u001b[0m\u001b[0m\n\u001b[0;32m   2272\u001b[0m \u001b[1;33m\u001b[0m\u001b[0m\n",
      "\u001b[1;32m/usr/local/lib/python3.5/dist-packages/tensorflow/python/client/session.py\u001b[0m in \u001b[0;36mrun\u001b[1;34m(self, fetches, feed_dict, options, run_metadata)\u001b[0m\n\u001b[0;32m    893\u001b[0m     \u001b[1;32mtry\u001b[0m\u001b[1;33m:\u001b[0m\u001b[1;33m\u001b[0m\u001b[0m\n\u001b[0;32m    894\u001b[0m       result = self._run(None, fetches, feed_dict, options_ptr,\n\u001b[1;32m--> 895\u001b[1;33m                          run_metadata_ptr)\n\u001b[0m\u001b[0;32m    896\u001b[0m       \u001b[1;32mif\u001b[0m \u001b[0mrun_metadata\u001b[0m\u001b[1;33m:\u001b[0m\u001b[1;33m\u001b[0m\u001b[0m\n\u001b[0;32m    897\u001b[0m         \u001b[0mproto_data\u001b[0m \u001b[1;33m=\u001b[0m \u001b[0mtf_session\u001b[0m\u001b[1;33m.\u001b[0m\u001b[0mTF_GetBuffer\u001b[0m\u001b[1;33m(\u001b[0m\u001b[0mrun_metadata_ptr\u001b[0m\u001b[1;33m)\u001b[0m\u001b[1;33m\u001b[0m\u001b[0m\n",
      "\u001b[1;32m/usr/local/lib/python3.5/dist-packages/tensorflow/python/client/session.py\u001b[0m in \u001b[0;36m_run\u001b[1;34m(self, handle, fetches, feed_dict, options, run_metadata)\u001b[0m\n\u001b[0;32m   1122\u001b[0m     \u001b[1;32mif\u001b[0m \u001b[0mfinal_fetches\u001b[0m \u001b[1;32mor\u001b[0m \u001b[0mfinal_targets\u001b[0m \u001b[1;32mor\u001b[0m \u001b[1;33m(\u001b[0m\u001b[0mhandle\u001b[0m \u001b[1;32mand\u001b[0m \u001b[0mfeed_dict_tensor\u001b[0m\u001b[1;33m)\u001b[0m\u001b[1;33m:\u001b[0m\u001b[1;33m\u001b[0m\u001b[0m\n\u001b[0;32m   1123\u001b[0m       results = self._do_run(handle, final_targets, final_fetches,\n\u001b[1;32m-> 1124\u001b[1;33m                              feed_dict_tensor, options, run_metadata)\n\u001b[0m\u001b[0;32m   1125\u001b[0m     \u001b[1;32melse\u001b[0m\u001b[1;33m:\u001b[0m\u001b[1;33m\u001b[0m\u001b[0m\n\u001b[0;32m   1126\u001b[0m       \u001b[0mresults\u001b[0m \u001b[1;33m=\u001b[0m \u001b[1;33m[\u001b[0m\u001b[1;33m]\u001b[0m\u001b[1;33m\u001b[0m\u001b[0m\n",
      "\u001b[1;32m/usr/local/lib/python3.5/dist-packages/tensorflow/python/client/session.py\u001b[0m in \u001b[0;36m_do_run\u001b[1;34m(self, handle, target_list, fetch_list, feed_dict, options, run_metadata)\u001b[0m\n\u001b[0;32m   1319\u001b[0m     \u001b[1;32mif\u001b[0m \u001b[0mhandle\u001b[0m \u001b[1;32mis\u001b[0m \u001b[1;32mNone\u001b[0m\u001b[1;33m:\u001b[0m\u001b[1;33m\u001b[0m\u001b[0m\n\u001b[0;32m   1320\u001b[0m       return self._do_call(_run_fn, self._session, feeds, fetches, targets,\n\u001b[1;32m-> 1321\u001b[1;33m                            options, run_metadata)\n\u001b[0m\u001b[0;32m   1322\u001b[0m     \u001b[1;32melse\u001b[0m\u001b[1;33m:\u001b[0m\u001b[1;33m\u001b[0m\u001b[0m\n\u001b[0;32m   1323\u001b[0m       \u001b[1;32mreturn\u001b[0m \u001b[0mself\u001b[0m\u001b[1;33m.\u001b[0m\u001b[0m_do_call\u001b[0m\u001b[1;33m(\u001b[0m\u001b[0m_prun_fn\u001b[0m\u001b[1;33m,\u001b[0m \u001b[0mself\u001b[0m\u001b[1;33m.\u001b[0m\u001b[0m_session\u001b[0m\u001b[1;33m,\u001b[0m \u001b[0mhandle\u001b[0m\u001b[1;33m,\u001b[0m \u001b[0mfeeds\u001b[0m\u001b[1;33m,\u001b[0m \u001b[0mfetches\u001b[0m\u001b[1;33m)\u001b[0m\u001b[1;33m\u001b[0m\u001b[0m\n",
      "\u001b[1;32m/usr/local/lib/python3.5/dist-packages/tensorflow/python/client/session.py\u001b[0m in \u001b[0;36m_do_call\u001b[1;34m(self, fn, *args)\u001b[0m\n\u001b[0;32m   1325\u001b[0m   \u001b[1;32mdef\u001b[0m \u001b[0m_do_call\u001b[0m\u001b[1;33m(\u001b[0m\u001b[0mself\u001b[0m\u001b[1;33m,\u001b[0m \u001b[0mfn\u001b[0m\u001b[1;33m,\u001b[0m \u001b[1;33m*\u001b[0m\u001b[0margs\u001b[0m\u001b[1;33m)\u001b[0m\u001b[1;33m:\u001b[0m\u001b[1;33m\u001b[0m\u001b[0m\n\u001b[0;32m   1326\u001b[0m     \u001b[1;32mtry\u001b[0m\u001b[1;33m:\u001b[0m\u001b[1;33m\u001b[0m\u001b[0m\n\u001b[1;32m-> 1327\u001b[1;33m       \u001b[1;32mreturn\u001b[0m \u001b[0mfn\u001b[0m\u001b[1;33m(\u001b[0m\u001b[1;33m*\u001b[0m\u001b[0margs\u001b[0m\u001b[1;33m)\u001b[0m\u001b[1;33m\u001b[0m\u001b[0m\n\u001b[0m\u001b[0;32m   1328\u001b[0m     \u001b[1;32mexcept\u001b[0m \u001b[0merrors\u001b[0m\u001b[1;33m.\u001b[0m\u001b[0mOpError\u001b[0m \u001b[1;32mas\u001b[0m \u001b[0me\u001b[0m\u001b[1;33m:\u001b[0m\u001b[1;33m\u001b[0m\u001b[0m\n\u001b[0;32m   1329\u001b[0m       \u001b[0mmessage\u001b[0m \u001b[1;33m=\u001b[0m \u001b[0mcompat\u001b[0m\u001b[1;33m.\u001b[0m\u001b[0mas_text\u001b[0m\u001b[1;33m(\u001b[0m\u001b[0me\u001b[0m\u001b[1;33m.\u001b[0m\u001b[0mmessage\u001b[0m\u001b[1;33m)\u001b[0m\u001b[1;33m\u001b[0m\u001b[0m\n",
      "\u001b[1;32m/usr/local/lib/python3.5/dist-packages/tensorflow/python/client/session.py\u001b[0m in \u001b[0;36m_run_fn\u001b[1;34m(session, feed_dict, fetch_list, target_list, options, run_metadata)\u001b[0m\n\u001b[0;32m   1304\u001b[0m           return tf_session.TF_Run(session, options,\n\u001b[0;32m   1305\u001b[0m                                    \u001b[0mfeed_dict\u001b[0m\u001b[1;33m,\u001b[0m \u001b[0mfetch_list\u001b[0m\u001b[1;33m,\u001b[0m \u001b[0mtarget_list\u001b[0m\u001b[1;33m,\u001b[0m\u001b[1;33m\u001b[0m\u001b[0m\n\u001b[1;32m-> 1306\u001b[1;33m                                    status, run_metadata)\n\u001b[0m\u001b[0;32m   1307\u001b[0m \u001b[1;33m\u001b[0m\u001b[0m\n\u001b[0;32m   1308\u001b[0m     \u001b[1;32mdef\u001b[0m \u001b[0m_prun_fn\u001b[0m\u001b[1;33m(\u001b[0m\u001b[0msession\u001b[0m\u001b[1;33m,\u001b[0m \u001b[0mhandle\u001b[0m\u001b[1;33m,\u001b[0m \u001b[0mfeed_dict\u001b[0m\u001b[1;33m,\u001b[0m \u001b[0mfetch_list\u001b[0m\u001b[1;33m)\u001b[0m\u001b[1;33m:\u001b[0m\u001b[1;33m\u001b[0m\u001b[0m\n",
      "\u001b[1;31mKeyboardInterrupt\u001b[0m: "
     ]
    }
   ],
   "source": [
    "# resume training\n",
    "model = load_model('../models/simpleCNN_29-0.4773.h5')\n",
    "\n",
    "# set the loss and optimizer\n",
    "rmsprop = RMSprop(lr=0.00001,decay=0.978)\n",
    "model.compile(optimizer=rmsprop, loss='sparse_categorical_crossentropy', metrics=['accuracy'])\n",
    "\n",
    "# train the model\n",
    "checkpoint = ModelCheckpoint('../models/simpleCNN_{epoch:02d}-{loss:.4f}.h5',\n",
    "                             monitor='loss',\n",
    "                             save_best_only=True)\n",
    "earlystop = EarlyStopping(min_delta=0.0001, patience=5)\n",
    "\n",
    "model.fit(data['X_train'], data['y_train'].reshape(-1,1),\n",
    "               batch_size=64,\n",
    "               epochs=200,\n",
    "               validation_data=(data['X_test'], data['y_test'].reshape(-1, 1)),\n",
    "               callbacks=[checkpoint, earlystop],\n",
    "               initial_epoch=26)"
   ]
  },
  {
   "cell_type": "markdown",
   "metadata": {},
   "source": [
    "## Inspect the wrong answers"
   ]
  },
  {
   "cell_type": "markdown",
   "metadata": {},
   "source": [
    "It's often helpful to see how the model classifies the wrong results."
   ]
  },
  {
   "cell_type": "code",
   "execution_count": 3,
   "metadata": {
    "collapsed": false
   },
   "outputs": [],
   "source": [
    "model = load_model('../models/simpleResCNN.h5')\n",
    "pred = np.argmax(model.predict(data['X_test']), axis=1)\n",
    "wrong_idx = [i for i in range(len(pred)) if pred[i] != data['y_test'][i]]"
   ]
  },
  {
   "cell_type": "code",
   "execution_count": null,
   "metadata": {
    "collapsed": false
   },
   "outputs": [],
   "source": [
    "np.random.shuffle(wrong_idx)\n",
    "fig = plt.figure()\n",
    "for i in range(1,6):\n",
    "    for j in range(1,3):\n",
    "        a = fig.add_subplot(j,10,i)\n",
    "        plt.imshow(data['X_test'][wrong_idx.pop()].reshape((28,28)))\n",
    "        plt.axis('off')\n",
    "plt.show()"
   ]
  },
  {
   "cell_type": "code",
   "execution_count": null,
   "metadata": {
    "collapsed": true
   },
   "outputs": [],
   "source": []
  },
  {
   "cell_type": "code",
   "execution_count": null,
   "metadata": {
    "collapsed": true
   },
   "outputs": [],
   "source": []
  },
  {
   "cell_type": "markdown",
   "metadata": {},
   "source": [
    "## Hyperparameter finetuning"
   ]
  },
  {
   "cell_type": "markdown",
   "metadata": {},
   "source": [
    "Here we use random search for following hyperparameters:\n",
    "initial learning rate, decay rate, "
   ]
  },
  {
   "cell_type": "code",
   "execution_count": null,
   "metadata": {
    "collapsed": true
   },
   "outputs": [],
   "source": [
    "# validation: 3000; 1 epochs\n",
    "# finetune list: initial learning rate, dropout, batch size"
   ]
  },
  {
   "cell_type": "markdown",
   "metadata": {
    "collapsed": true
   },
   "source": [
    "## Create submissions"
   ]
  },
  {
   "cell_type": "markdown",
   "metadata": {
    "collapsed": true
   },
   "source": [
    "Load the saved trained models and produce predictions for submission on Kaggle."
   ]
  },
  {
   "cell_type": "code",
   "execution_count": 7,
   "metadata": {
    "collapsed": false
   },
   "outputs": [
    {
     "name": "stdout",
     "output_type": "stream",
     "text": [
      "Load model successfully.\n",
      "28000/28000 [==============================] - 36s    \n"
     ]
    }
   ],
   "source": [
    "from lib.data_utils import create_submission\n",
    "from keras.models import load_model\n",
    "\n",
    "# for simple CNN model\n",
    "model = load_model('../models/simpleCNN_29-0.4773.h5')\n",
    "print('Load model successfully.')\n",
    "create_submission(model, '../data/test.csv', '../submission/submission_simpleResCNN_30.csv', 128)"
   ]
  },
  {
   "cell_type": "code",
   "execution_count": 8,
   "metadata": {
    "collapsed": false
   },
   "outputs": [
    {
     "name": "stdout",
     "output_type": "stream",
     "text": [
      "(1000, 10)\n"
     ]
    }
   ],
   "source": [
    "print(pred.shape)"
   ]
  },
  {
   "cell_type": "code",
   "execution_count": null,
   "metadata": {
    "collapsed": true
   },
   "outputs": [],
   "source": []
  }
 ],
 "metadata": {
  "kernelspec": {
   "display_name": "Python 3",
   "language": "python",
   "name": "python3"
  },
  "language_info": {
   "codemirror_mode": {
    "name": "ipython",
    "version": 3
   },
   "file_extension": ".py",
   "mimetype": "text/x-python",
   "name": "python",
   "nbconvert_exporter": "python",
   "pygments_lexer": "ipython3",
   "version": "3.5.2"
  }
 },
 "nbformat": 4,
 "nbformat_minor": 0
}
